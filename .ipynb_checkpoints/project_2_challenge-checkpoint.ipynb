{
 "cells": [
  {
   "cell_type": "markdown",
   "id": "e8ed8320",
   "metadata": {},
   "source": [
    "# Importing"
   ]
  },
  {
   "cell_type": "code",
   "execution_count": 1625,
   "id": "cdaf83cf",
   "metadata": {},
   "outputs": [],
   "source": [
    "# Imports\n",
    "import pandas as pd\n",
    "import numpy as np\n",
    "import matplotlib.pyplot as plt\n",
    "import seaborn as sns\n",
    "\n",
    "from sklearn.linear_model import LinearRegression, LogisticRegression\n",
    "from sklearn.model_selection import train_test_split, cross_val_score\n",
    "from sklearn.preprocessing import StandardScaler, PolynomialFeatures\n",
    "import sklearn.metrics as metrics\n"
   ]
  },
  {
   "cell_type": "markdown",
   "id": "1a681101",
   "metadata": {},
   "source": [
    "# Reading in DataFrames"
   ]
  },
  {
   "cell_type": "code",
   "execution_count": 1626,
   "id": "f1a16c9a",
   "metadata": {},
   "outputs": [],
   "source": [
    "submission = pd.read_csv('datasets/test.csv')\n",
    "submission_knn = pd.read_csv('datasets/test.csv')\n",
    "submission_poly = pd.read_csv('datasets/test.csv')\n",
    "submission_lasso = pd.read_csv('datasets/test.csv')\n",
    "submission_ridge = pd.read_csv('datasets/test.csv')\n",
    "training = pd.read_csv('datasets/train.csv')"
   ]
  },
  {
   "cell_type": "markdown",
   "id": "da4ee723",
   "metadata": {},
   "source": [
    "Making multiple submissions dataframes to separate different tests."
   ]
  },
  {
   "cell_type": "markdown",
   "id": "fc6118a9",
   "metadata": {},
   "source": [
    "# Cleaning"
   ]
  },
  {
   "cell_type": "code",
   "execution_count": 1627,
   "id": "28ea8deb",
   "metadata": {},
   "outputs": [],
   "source": [
    "training.columns = [col.replace(' ', '_').lower() for col in training.columns]\n",
    "submission.columns = [col.replace(' ', '_').lower() for col in submission.columns]\n",
    "submission_knn.columns = [col.replace(' ', '_').lower() for col in submission_knn.columns]\n",
    "submission_poly.columns = [col.replace(' ', '_').lower() for col in submission_poly.columns]\n",
    "submission_lasso.columns = [col.replace(' ', '_').lower() for col in submission_lasso.columns]\n",
    "submission_ridge.columns = [col.replace(' ', '_').lower() for col in submission_ridge.columns]"
   ]
  },
  {
   "cell_type": "code",
   "execution_count": 1628,
   "id": "7ec955cd",
   "metadata": {
    "scrolled": true
   },
   "outputs": [
    {
     "data": {
      "text/html": [
       "<div>\n",
       "<style scoped>\n",
       "    .dataframe tbody tr th:only-of-type {\n",
       "        vertical-align: middle;\n",
       "    }\n",
       "\n",
       "    .dataframe tbody tr th {\n",
       "        vertical-align: top;\n",
       "    }\n",
       "\n",
       "    .dataframe thead th {\n",
       "        text-align: right;\n",
       "    }\n",
       "</style>\n",
       "<table border=\"1\" class=\"dataframe\">\n",
       "  <thead>\n",
       "    <tr style=\"text-align: right;\">\n",
       "      <th></th>\n",
       "      <th>id</th>\n",
       "      <th>pid</th>\n",
       "      <th>ms_subclass</th>\n",
       "      <th>ms_zoning</th>\n",
       "      <th>lot_frontage</th>\n",
       "      <th>lot_area</th>\n",
       "      <th>street</th>\n",
       "      <th>alley</th>\n",
       "      <th>lot_shape</th>\n",
       "      <th>land_contour</th>\n",
       "      <th>utilities</th>\n",
       "      <th>lot_config</th>\n",
       "      <th>land_slope</th>\n",
       "      <th>neighborhood</th>\n",
       "      <th>condition_1</th>\n",
       "      <th>condition_2</th>\n",
       "      <th>bldg_type</th>\n",
       "      <th>house_style</th>\n",
       "      <th>overall_qual</th>\n",
       "      <th>overall_cond</th>\n",
       "      <th>year_built</th>\n",
       "      <th>year_remod/add</th>\n",
       "      <th>roof_style</th>\n",
       "      <th>roof_matl</th>\n",
       "      <th>exterior_1st</th>\n",
       "      <th>exterior_2nd</th>\n",
       "      <th>mas_vnr_type</th>\n",
       "      <th>mas_vnr_area</th>\n",
       "      <th>exter_qual</th>\n",
       "      <th>exter_cond</th>\n",
       "      <th>foundation</th>\n",
       "      <th>bsmt_qual</th>\n",
       "      <th>bsmt_cond</th>\n",
       "      <th>bsmt_exposure</th>\n",
       "      <th>bsmtfin_type_1</th>\n",
       "      <th>bsmtfin_sf_1</th>\n",
       "      <th>bsmtfin_type_2</th>\n",
       "      <th>bsmtfin_sf_2</th>\n",
       "      <th>bsmt_unf_sf</th>\n",
       "      <th>total_bsmt_sf</th>\n",
       "      <th>heating</th>\n",
       "      <th>heating_qc</th>\n",
       "      <th>central_air</th>\n",
       "      <th>electrical</th>\n",
       "      <th>1st_flr_sf</th>\n",
       "      <th>2nd_flr_sf</th>\n",
       "      <th>low_qual_fin_sf</th>\n",
       "      <th>gr_liv_area</th>\n",
       "      <th>bsmt_full_bath</th>\n",
       "      <th>bsmt_half_bath</th>\n",
       "      <th>full_bath</th>\n",
       "      <th>half_bath</th>\n",
       "      <th>bedroom_abvgr</th>\n",
       "      <th>kitchen_abvgr</th>\n",
       "      <th>kitchen_qual</th>\n",
       "      <th>totrms_abvgrd</th>\n",
       "      <th>functional</th>\n",
       "      <th>fireplaces</th>\n",
       "      <th>fireplace_qu</th>\n",
       "      <th>garage_type</th>\n",
       "      <th>garage_yr_blt</th>\n",
       "      <th>garage_finish</th>\n",
       "      <th>garage_cars</th>\n",
       "      <th>garage_area</th>\n",
       "      <th>garage_qual</th>\n",
       "      <th>garage_cond</th>\n",
       "      <th>paved_drive</th>\n",
       "      <th>wood_deck_sf</th>\n",
       "      <th>open_porch_sf</th>\n",
       "      <th>enclosed_porch</th>\n",
       "      <th>3ssn_porch</th>\n",
       "      <th>screen_porch</th>\n",
       "      <th>pool_area</th>\n",
       "      <th>pool_qc</th>\n",
       "      <th>fence</th>\n",
       "      <th>misc_feature</th>\n",
       "      <th>misc_val</th>\n",
       "      <th>mo_sold</th>\n",
       "      <th>yr_sold</th>\n",
       "      <th>sale_type</th>\n",
       "      <th>saleprice</th>\n",
       "    </tr>\n",
       "  </thead>\n",
       "  <tbody>\n",
       "    <tr>\n",
       "      <th>0</th>\n",
       "      <td>109</td>\n",
       "      <td>533352170</td>\n",
       "      <td>60</td>\n",
       "      <td>RL</td>\n",
       "      <td>NaN</td>\n",
       "      <td>13517</td>\n",
       "      <td>Pave</td>\n",
       "      <td>NaN</td>\n",
       "      <td>IR1</td>\n",
       "      <td>Lvl</td>\n",
       "      <td>AllPub</td>\n",
       "      <td>CulDSac</td>\n",
       "      <td>Gtl</td>\n",
       "      <td>Sawyer</td>\n",
       "      <td>RRAe</td>\n",
       "      <td>Norm</td>\n",
       "      <td>1Fam</td>\n",
       "      <td>2Story</td>\n",
       "      <td>6</td>\n",
       "      <td>8</td>\n",
       "      <td>1976</td>\n",
       "      <td>2005</td>\n",
       "      <td>Gable</td>\n",
       "      <td>CompShg</td>\n",
       "      <td>HdBoard</td>\n",
       "      <td>Plywood</td>\n",
       "      <td>BrkFace</td>\n",
       "      <td>289.0</td>\n",
       "      <td>Gd</td>\n",
       "      <td>TA</td>\n",
       "      <td>CBlock</td>\n",
       "      <td>TA</td>\n",
       "      <td>TA</td>\n",
       "      <td>No</td>\n",
       "      <td>GLQ</td>\n",
       "      <td>533.0</td>\n",
       "      <td>Unf</td>\n",
       "      <td>0.0</td>\n",
       "      <td>192.0</td>\n",
       "      <td>725.0</td>\n",
       "      <td>GasA</td>\n",
       "      <td>Ex</td>\n",
       "      <td>Y</td>\n",
       "      <td>SBrkr</td>\n",
       "      <td>725</td>\n",
       "      <td>754</td>\n",
       "      <td>0</td>\n",
       "      <td>1479</td>\n",
       "      <td>0.0</td>\n",
       "      <td>0.0</td>\n",
       "      <td>2</td>\n",
       "      <td>1</td>\n",
       "      <td>3</td>\n",
       "      <td>1</td>\n",
       "      <td>Gd</td>\n",
       "      <td>6</td>\n",
       "      <td>Typ</td>\n",
       "      <td>0</td>\n",
       "      <td>NaN</td>\n",
       "      <td>Attchd</td>\n",
       "      <td>1976.0</td>\n",
       "      <td>RFn</td>\n",
       "      <td>2.0</td>\n",
       "      <td>475.0</td>\n",
       "      <td>TA</td>\n",
       "      <td>TA</td>\n",
       "      <td>Y</td>\n",
       "      <td>0</td>\n",
       "      <td>44</td>\n",
       "      <td>0</td>\n",
       "      <td>0</td>\n",
       "      <td>0</td>\n",
       "      <td>0</td>\n",
       "      <td>NaN</td>\n",
       "      <td>NaN</td>\n",
       "      <td>NaN</td>\n",
       "      <td>0</td>\n",
       "      <td>3</td>\n",
       "      <td>2010</td>\n",
       "      <td>WD</td>\n",
       "      <td>130500</td>\n",
       "    </tr>\n",
       "    <tr>\n",
       "      <th>1</th>\n",
       "      <td>544</td>\n",
       "      <td>531379050</td>\n",
       "      <td>60</td>\n",
       "      <td>RL</td>\n",
       "      <td>43.0</td>\n",
       "      <td>11492</td>\n",
       "      <td>Pave</td>\n",
       "      <td>NaN</td>\n",
       "      <td>IR1</td>\n",
       "      <td>Lvl</td>\n",
       "      <td>AllPub</td>\n",
       "      <td>CulDSac</td>\n",
       "      <td>Gtl</td>\n",
       "      <td>SawyerW</td>\n",
       "      <td>Norm</td>\n",
       "      <td>Norm</td>\n",
       "      <td>1Fam</td>\n",
       "      <td>2Story</td>\n",
       "      <td>7</td>\n",
       "      <td>5</td>\n",
       "      <td>1996</td>\n",
       "      <td>1997</td>\n",
       "      <td>Gable</td>\n",
       "      <td>CompShg</td>\n",
       "      <td>VinylSd</td>\n",
       "      <td>VinylSd</td>\n",
       "      <td>BrkFace</td>\n",
       "      <td>132.0</td>\n",
       "      <td>Gd</td>\n",
       "      <td>TA</td>\n",
       "      <td>PConc</td>\n",
       "      <td>Gd</td>\n",
       "      <td>TA</td>\n",
       "      <td>No</td>\n",
       "      <td>GLQ</td>\n",
       "      <td>637.0</td>\n",
       "      <td>Unf</td>\n",
       "      <td>0.0</td>\n",
       "      <td>276.0</td>\n",
       "      <td>913.0</td>\n",
       "      <td>GasA</td>\n",
       "      <td>Ex</td>\n",
       "      <td>Y</td>\n",
       "      <td>SBrkr</td>\n",
       "      <td>913</td>\n",
       "      <td>1209</td>\n",
       "      <td>0</td>\n",
       "      <td>2122</td>\n",
       "      <td>1.0</td>\n",
       "      <td>0.0</td>\n",
       "      <td>2</td>\n",
       "      <td>1</td>\n",
       "      <td>4</td>\n",
       "      <td>1</td>\n",
       "      <td>Gd</td>\n",
       "      <td>8</td>\n",
       "      <td>Typ</td>\n",
       "      <td>1</td>\n",
       "      <td>TA</td>\n",
       "      <td>Attchd</td>\n",
       "      <td>1997.0</td>\n",
       "      <td>RFn</td>\n",
       "      <td>2.0</td>\n",
       "      <td>559.0</td>\n",
       "      <td>TA</td>\n",
       "      <td>TA</td>\n",
       "      <td>Y</td>\n",
       "      <td>0</td>\n",
       "      <td>74</td>\n",
       "      <td>0</td>\n",
       "      <td>0</td>\n",
       "      <td>0</td>\n",
       "      <td>0</td>\n",
       "      <td>NaN</td>\n",
       "      <td>NaN</td>\n",
       "      <td>NaN</td>\n",
       "      <td>0</td>\n",
       "      <td>4</td>\n",
       "      <td>2009</td>\n",
       "      <td>WD</td>\n",
       "      <td>220000</td>\n",
       "    </tr>\n",
       "  </tbody>\n",
       "</table>\n",
       "</div>"
      ],
      "text/plain": [
       "    id        pid  ms_subclass ms_zoning  lot_frontage  lot_area street alley  \\\n",
       "0  109  533352170           60        RL           NaN     13517   Pave   NaN   \n",
       "1  544  531379050           60        RL          43.0     11492   Pave   NaN   \n",
       "\n",
       "  lot_shape land_contour utilities lot_config land_slope neighborhood  \\\n",
       "0       IR1          Lvl    AllPub    CulDSac        Gtl       Sawyer   \n",
       "1       IR1          Lvl    AllPub    CulDSac        Gtl      SawyerW   \n",
       "\n",
       "  condition_1 condition_2 bldg_type house_style  overall_qual  overall_cond  \\\n",
       "0        RRAe        Norm      1Fam      2Story             6             8   \n",
       "1        Norm        Norm      1Fam      2Story             7             5   \n",
       "\n",
       "   year_built  year_remod/add roof_style roof_matl exterior_1st exterior_2nd  \\\n",
       "0        1976            2005      Gable   CompShg      HdBoard      Plywood   \n",
       "1        1996            1997      Gable   CompShg      VinylSd      VinylSd   \n",
       "\n",
       "  mas_vnr_type  mas_vnr_area exter_qual exter_cond foundation bsmt_qual  \\\n",
       "0      BrkFace         289.0         Gd         TA     CBlock        TA   \n",
       "1      BrkFace         132.0         Gd         TA      PConc        Gd   \n",
       "\n",
       "  bsmt_cond bsmt_exposure bsmtfin_type_1  bsmtfin_sf_1 bsmtfin_type_2  \\\n",
       "0        TA            No            GLQ         533.0            Unf   \n",
       "1        TA            No            GLQ         637.0            Unf   \n",
       "\n",
       "   bsmtfin_sf_2  bsmt_unf_sf  total_bsmt_sf heating heating_qc central_air  \\\n",
       "0           0.0        192.0          725.0    GasA         Ex           Y   \n",
       "1           0.0        276.0          913.0    GasA         Ex           Y   \n",
       "\n",
       "  electrical  1st_flr_sf  2nd_flr_sf  low_qual_fin_sf  gr_liv_area  \\\n",
       "0      SBrkr         725         754                0         1479   \n",
       "1      SBrkr         913        1209                0         2122   \n",
       "\n",
       "   bsmt_full_bath  bsmt_half_bath  full_bath  half_bath  bedroom_abvgr  \\\n",
       "0             0.0             0.0          2          1              3   \n",
       "1             1.0             0.0          2          1              4   \n",
       "\n",
       "   kitchen_abvgr kitchen_qual  totrms_abvgrd functional  fireplaces  \\\n",
       "0              1           Gd              6        Typ           0   \n",
       "1              1           Gd              8        Typ           1   \n",
       "\n",
       "  fireplace_qu garage_type  garage_yr_blt garage_finish  garage_cars  \\\n",
       "0          NaN      Attchd         1976.0           RFn          2.0   \n",
       "1           TA      Attchd         1997.0           RFn          2.0   \n",
       "\n",
       "   garage_area garage_qual garage_cond paved_drive  wood_deck_sf  \\\n",
       "0        475.0          TA          TA           Y             0   \n",
       "1        559.0          TA          TA           Y             0   \n",
       "\n",
       "   open_porch_sf  enclosed_porch  3ssn_porch  screen_porch  pool_area pool_qc  \\\n",
       "0             44               0           0             0          0     NaN   \n",
       "1             74               0           0             0          0     NaN   \n",
       "\n",
       "  fence misc_feature  misc_val  mo_sold  yr_sold sale_type  saleprice  \n",
       "0   NaN          NaN         0        3     2010       WD      130500  \n",
       "1   NaN          NaN         0        4     2009       WD      220000  "
      ]
     },
     "execution_count": 1628,
     "metadata": {},
     "output_type": "execute_result"
    }
   ],
   "source": [
    "# Previewing the data we will be looking into \n",
    "pd.set_option('display.max_columns', None)\n",
    "training.head(2)"
   ]
  },
  {
   "cell_type": "code",
   "execution_count": 1629,
   "id": "62b02161",
   "metadata": {},
   "outputs": [
    {
     "data": {
      "text/html": [
       "<div>\n",
       "<style scoped>\n",
       "    .dataframe tbody tr th:only-of-type {\n",
       "        vertical-align: middle;\n",
       "    }\n",
       "\n",
       "    .dataframe tbody tr th {\n",
       "        vertical-align: top;\n",
       "    }\n",
       "\n",
       "    .dataframe thead th {\n",
       "        text-align: right;\n",
       "    }\n",
       "</style>\n",
       "<table border=\"1\" class=\"dataframe\">\n",
       "  <thead>\n",
       "    <tr style=\"text-align: right;\">\n",
       "      <th></th>\n",
       "      <th>id</th>\n",
       "      <th>pid</th>\n",
       "      <th>ms_subclass</th>\n",
       "      <th>ms_zoning</th>\n",
       "      <th>lot_frontage</th>\n",
       "      <th>lot_area</th>\n",
       "      <th>street</th>\n",
       "      <th>alley</th>\n",
       "      <th>lot_shape</th>\n",
       "      <th>land_contour</th>\n",
       "      <th>utilities</th>\n",
       "      <th>lot_config</th>\n",
       "      <th>land_slope</th>\n",
       "      <th>neighborhood</th>\n",
       "      <th>condition_1</th>\n",
       "      <th>condition_2</th>\n",
       "      <th>bldg_type</th>\n",
       "      <th>house_style</th>\n",
       "      <th>overall_qual</th>\n",
       "      <th>overall_cond</th>\n",
       "      <th>year_built</th>\n",
       "      <th>year_remod/add</th>\n",
       "      <th>roof_style</th>\n",
       "      <th>roof_matl</th>\n",
       "      <th>exterior_1st</th>\n",
       "      <th>exterior_2nd</th>\n",
       "      <th>mas_vnr_type</th>\n",
       "      <th>mas_vnr_area</th>\n",
       "      <th>exter_qual</th>\n",
       "      <th>exter_cond</th>\n",
       "      <th>foundation</th>\n",
       "      <th>bsmt_qual</th>\n",
       "      <th>bsmt_cond</th>\n",
       "      <th>bsmt_exposure</th>\n",
       "      <th>bsmtfin_type_1</th>\n",
       "      <th>bsmtfin_sf_1</th>\n",
       "      <th>bsmtfin_type_2</th>\n",
       "      <th>bsmtfin_sf_2</th>\n",
       "      <th>bsmt_unf_sf</th>\n",
       "      <th>total_bsmt_sf</th>\n",
       "      <th>heating</th>\n",
       "      <th>heating_qc</th>\n",
       "      <th>central_air</th>\n",
       "      <th>electrical</th>\n",
       "      <th>1st_flr_sf</th>\n",
       "      <th>2nd_flr_sf</th>\n",
       "      <th>low_qual_fin_sf</th>\n",
       "      <th>gr_liv_area</th>\n",
       "      <th>bsmt_full_bath</th>\n",
       "      <th>bsmt_half_bath</th>\n",
       "      <th>full_bath</th>\n",
       "      <th>half_bath</th>\n",
       "      <th>bedroom_abvgr</th>\n",
       "      <th>kitchen_abvgr</th>\n",
       "      <th>kitchen_qual</th>\n",
       "      <th>totrms_abvgrd</th>\n",
       "      <th>functional</th>\n",
       "      <th>fireplaces</th>\n",
       "      <th>fireplace_qu</th>\n",
       "      <th>garage_type</th>\n",
       "      <th>garage_yr_blt</th>\n",
       "      <th>garage_finish</th>\n",
       "      <th>garage_cars</th>\n",
       "      <th>garage_area</th>\n",
       "      <th>garage_qual</th>\n",
       "      <th>garage_cond</th>\n",
       "      <th>paved_drive</th>\n",
       "      <th>wood_deck_sf</th>\n",
       "      <th>open_porch_sf</th>\n",
       "      <th>enclosed_porch</th>\n",
       "      <th>3ssn_porch</th>\n",
       "      <th>screen_porch</th>\n",
       "      <th>pool_area</th>\n",
       "      <th>pool_qc</th>\n",
       "      <th>fence</th>\n",
       "      <th>misc_feature</th>\n",
       "      <th>misc_val</th>\n",
       "      <th>mo_sold</th>\n",
       "      <th>yr_sold</th>\n",
       "      <th>sale_type</th>\n",
       "    </tr>\n",
       "  </thead>\n",
       "  <tbody>\n",
       "    <tr>\n",
       "      <th>0</th>\n",
       "      <td>2658</td>\n",
       "      <td>902301120</td>\n",
       "      <td>190</td>\n",
       "      <td>RM</td>\n",
       "      <td>69.0</td>\n",
       "      <td>9142</td>\n",
       "      <td>Pave</td>\n",
       "      <td>Grvl</td>\n",
       "      <td>Reg</td>\n",
       "      <td>Lvl</td>\n",
       "      <td>AllPub</td>\n",
       "      <td>Inside</td>\n",
       "      <td>Gtl</td>\n",
       "      <td>OldTown</td>\n",
       "      <td>Norm</td>\n",
       "      <td>Norm</td>\n",
       "      <td>2fmCon</td>\n",
       "      <td>2Story</td>\n",
       "      <td>6</td>\n",
       "      <td>8</td>\n",
       "      <td>1910</td>\n",
       "      <td>1950</td>\n",
       "      <td>Gable</td>\n",
       "      <td>CompShg</td>\n",
       "      <td>AsbShng</td>\n",
       "      <td>AsbShng</td>\n",
       "      <td>None</td>\n",
       "      <td>0.0</td>\n",
       "      <td>TA</td>\n",
       "      <td>Fa</td>\n",
       "      <td>Stone</td>\n",
       "      <td>Fa</td>\n",
       "      <td>TA</td>\n",
       "      <td>No</td>\n",
       "      <td>Unf</td>\n",
       "      <td>0</td>\n",
       "      <td>Unf</td>\n",
       "      <td>0</td>\n",
       "      <td>1020</td>\n",
       "      <td>1020</td>\n",
       "      <td>GasA</td>\n",
       "      <td>Gd</td>\n",
       "      <td>N</td>\n",
       "      <td>FuseP</td>\n",
       "      <td>908</td>\n",
       "      <td>1020</td>\n",
       "      <td>0</td>\n",
       "      <td>1928</td>\n",
       "      <td>0</td>\n",
       "      <td>0</td>\n",
       "      <td>2</td>\n",
       "      <td>0</td>\n",
       "      <td>4</td>\n",
       "      <td>2</td>\n",
       "      <td>Fa</td>\n",
       "      <td>9</td>\n",
       "      <td>Typ</td>\n",
       "      <td>0</td>\n",
       "      <td>NaN</td>\n",
       "      <td>Detchd</td>\n",
       "      <td>1910.0</td>\n",
       "      <td>Unf</td>\n",
       "      <td>1</td>\n",
       "      <td>440</td>\n",
       "      <td>Po</td>\n",
       "      <td>Po</td>\n",
       "      <td>Y</td>\n",
       "      <td>0</td>\n",
       "      <td>60</td>\n",
       "      <td>112</td>\n",
       "      <td>0</td>\n",
       "      <td>0</td>\n",
       "      <td>0</td>\n",
       "      <td>NaN</td>\n",
       "      <td>NaN</td>\n",
       "      <td>NaN</td>\n",
       "      <td>0</td>\n",
       "      <td>4</td>\n",
       "      <td>2006</td>\n",
       "      <td>WD</td>\n",
       "    </tr>\n",
       "    <tr>\n",
       "      <th>1</th>\n",
       "      <td>2718</td>\n",
       "      <td>905108090</td>\n",
       "      <td>90</td>\n",
       "      <td>RL</td>\n",
       "      <td>NaN</td>\n",
       "      <td>9662</td>\n",
       "      <td>Pave</td>\n",
       "      <td>NaN</td>\n",
       "      <td>IR1</td>\n",
       "      <td>Lvl</td>\n",
       "      <td>AllPub</td>\n",
       "      <td>Inside</td>\n",
       "      <td>Gtl</td>\n",
       "      <td>Sawyer</td>\n",
       "      <td>Norm</td>\n",
       "      <td>Norm</td>\n",
       "      <td>Duplex</td>\n",
       "      <td>1Story</td>\n",
       "      <td>5</td>\n",
       "      <td>4</td>\n",
       "      <td>1977</td>\n",
       "      <td>1977</td>\n",
       "      <td>Gable</td>\n",
       "      <td>CompShg</td>\n",
       "      <td>Plywood</td>\n",
       "      <td>Plywood</td>\n",
       "      <td>None</td>\n",
       "      <td>0.0</td>\n",
       "      <td>TA</td>\n",
       "      <td>TA</td>\n",
       "      <td>CBlock</td>\n",
       "      <td>Gd</td>\n",
       "      <td>TA</td>\n",
       "      <td>No</td>\n",
       "      <td>Unf</td>\n",
       "      <td>0</td>\n",
       "      <td>Unf</td>\n",
       "      <td>0</td>\n",
       "      <td>1967</td>\n",
       "      <td>1967</td>\n",
       "      <td>GasA</td>\n",
       "      <td>TA</td>\n",
       "      <td>Y</td>\n",
       "      <td>SBrkr</td>\n",
       "      <td>1967</td>\n",
       "      <td>0</td>\n",
       "      <td>0</td>\n",
       "      <td>1967</td>\n",
       "      <td>0</td>\n",
       "      <td>0</td>\n",
       "      <td>2</td>\n",
       "      <td>0</td>\n",
       "      <td>6</td>\n",
       "      <td>2</td>\n",
       "      <td>TA</td>\n",
       "      <td>10</td>\n",
       "      <td>Typ</td>\n",
       "      <td>0</td>\n",
       "      <td>NaN</td>\n",
       "      <td>Attchd</td>\n",
       "      <td>1977.0</td>\n",
       "      <td>Fin</td>\n",
       "      <td>2</td>\n",
       "      <td>580</td>\n",
       "      <td>TA</td>\n",
       "      <td>TA</td>\n",
       "      <td>Y</td>\n",
       "      <td>170</td>\n",
       "      <td>0</td>\n",
       "      <td>0</td>\n",
       "      <td>0</td>\n",
       "      <td>0</td>\n",
       "      <td>0</td>\n",
       "      <td>NaN</td>\n",
       "      <td>NaN</td>\n",
       "      <td>NaN</td>\n",
       "      <td>0</td>\n",
       "      <td>8</td>\n",
       "      <td>2006</td>\n",
       "      <td>WD</td>\n",
       "    </tr>\n",
       "  </tbody>\n",
       "</table>\n",
       "</div>"
      ],
      "text/plain": [
       "     id        pid  ms_subclass ms_zoning  lot_frontage  lot_area street  \\\n",
       "0  2658  902301120          190        RM          69.0      9142   Pave   \n",
       "1  2718  905108090           90        RL           NaN      9662   Pave   \n",
       "\n",
       "  alley lot_shape land_contour utilities lot_config land_slope neighborhood  \\\n",
       "0  Grvl       Reg          Lvl    AllPub     Inside        Gtl      OldTown   \n",
       "1   NaN       IR1          Lvl    AllPub     Inside        Gtl       Sawyer   \n",
       "\n",
       "  condition_1 condition_2 bldg_type house_style  overall_qual  overall_cond  \\\n",
       "0        Norm        Norm    2fmCon      2Story             6             8   \n",
       "1        Norm        Norm    Duplex      1Story             5             4   \n",
       "\n",
       "   year_built  year_remod/add roof_style roof_matl exterior_1st exterior_2nd  \\\n",
       "0        1910            1950      Gable   CompShg      AsbShng      AsbShng   \n",
       "1        1977            1977      Gable   CompShg      Plywood      Plywood   \n",
       "\n",
       "  mas_vnr_type  mas_vnr_area exter_qual exter_cond foundation bsmt_qual  \\\n",
       "0         None           0.0         TA         Fa      Stone        Fa   \n",
       "1         None           0.0         TA         TA     CBlock        Gd   \n",
       "\n",
       "  bsmt_cond bsmt_exposure bsmtfin_type_1  bsmtfin_sf_1 bsmtfin_type_2  \\\n",
       "0        TA            No            Unf             0            Unf   \n",
       "1        TA            No            Unf             0            Unf   \n",
       "\n",
       "   bsmtfin_sf_2  bsmt_unf_sf  total_bsmt_sf heating heating_qc central_air  \\\n",
       "0             0         1020           1020    GasA         Gd           N   \n",
       "1             0         1967           1967    GasA         TA           Y   \n",
       "\n",
       "  electrical  1st_flr_sf  2nd_flr_sf  low_qual_fin_sf  gr_liv_area  \\\n",
       "0      FuseP         908        1020                0         1928   \n",
       "1      SBrkr        1967           0                0         1967   \n",
       "\n",
       "   bsmt_full_bath  bsmt_half_bath  full_bath  half_bath  bedroom_abvgr  \\\n",
       "0               0               0          2          0              4   \n",
       "1               0               0          2          0              6   \n",
       "\n",
       "   kitchen_abvgr kitchen_qual  totrms_abvgrd functional  fireplaces  \\\n",
       "0              2           Fa              9        Typ           0   \n",
       "1              2           TA             10        Typ           0   \n",
       "\n",
       "  fireplace_qu garage_type  garage_yr_blt garage_finish  garage_cars  \\\n",
       "0          NaN      Detchd         1910.0           Unf            1   \n",
       "1          NaN      Attchd         1977.0           Fin            2   \n",
       "\n",
       "   garage_area garage_qual garage_cond paved_drive  wood_deck_sf  \\\n",
       "0          440          Po          Po           Y             0   \n",
       "1          580          TA          TA           Y           170   \n",
       "\n",
       "   open_porch_sf  enclosed_porch  3ssn_porch  screen_porch  pool_area pool_qc  \\\n",
       "0             60             112           0             0          0     NaN   \n",
       "1              0               0           0             0          0     NaN   \n",
       "\n",
       "  fence misc_feature  misc_val  mo_sold  yr_sold sale_type  \n",
       "0   NaN          NaN         0        4     2006       WD   \n",
       "1   NaN          NaN         0        8     2006       WD   "
      ]
     },
     "execution_count": 1629,
     "metadata": {},
     "output_type": "execute_result"
    }
   ],
   "source": [
    "# Previewing the data we will be looking into \n",
    "submission.head(2)"
   ]
  },
  {
   "cell_type": "markdown",
   "id": "b74f6c60",
   "metadata": {},
   "source": [
    "The test dataframe does not have Sale Price column."
   ]
  },
  {
   "cell_type": "code",
   "execution_count": 1630,
   "id": "cea1e7ca",
   "metadata": {},
   "outputs": [
    {
     "data": {
      "text/html": [
       "<div>\n",
       "<style scoped>\n",
       "    .dataframe tbody tr th:only-of-type {\n",
       "        vertical-align: middle;\n",
       "    }\n",
       "\n",
       "    .dataframe tbody tr th {\n",
       "        vertical-align: top;\n",
       "    }\n",
       "\n",
       "    .dataframe thead th {\n",
       "        text-align: right;\n",
       "    }\n",
       "</style>\n",
       "<table border=\"1\" class=\"dataframe\">\n",
       "  <thead>\n",
       "    <tr style=\"text-align: right;\">\n",
       "      <th></th>\n",
       "      <th>id</th>\n",
       "      <th>pid</th>\n",
       "      <th>ms_subclass</th>\n",
       "      <th>lot_frontage</th>\n",
       "      <th>lot_area</th>\n",
       "      <th>overall_qual</th>\n",
       "      <th>overall_cond</th>\n",
       "      <th>year_built</th>\n",
       "      <th>year_remod/add</th>\n",
       "      <th>mas_vnr_area</th>\n",
       "      <th>bsmtfin_sf_1</th>\n",
       "      <th>bsmtfin_sf_2</th>\n",
       "      <th>bsmt_unf_sf</th>\n",
       "      <th>total_bsmt_sf</th>\n",
       "      <th>1st_flr_sf</th>\n",
       "      <th>2nd_flr_sf</th>\n",
       "      <th>low_qual_fin_sf</th>\n",
       "      <th>gr_liv_area</th>\n",
       "      <th>bsmt_full_bath</th>\n",
       "      <th>bsmt_half_bath</th>\n",
       "      <th>full_bath</th>\n",
       "      <th>half_bath</th>\n",
       "      <th>bedroom_abvgr</th>\n",
       "      <th>kitchen_abvgr</th>\n",
       "      <th>totrms_abvgrd</th>\n",
       "      <th>fireplaces</th>\n",
       "      <th>garage_yr_blt</th>\n",
       "      <th>garage_cars</th>\n",
       "      <th>garage_area</th>\n",
       "      <th>wood_deck_sf</th>\n",
       "      <th>open_porch_sf</th>\n",
       "      <th>enclosed_porch</th>\n",
       "      <th>3ssn_porch</th>\n",
       "      <th>screen_porch</th>\n",
       "      <th>pool_area</th>\n",
       "      <th>misc_val</th>\n",
       "      <th>mo_sold</th>\n",
       "      <th>yr_sold</th>\n",
       "      <th>saleprice</th>\n",
       "    </tr>\n",
       "  </thead>\n",
       "  <tbody>\n",
       "    <tr>\n",
       "      <th>count</th>\n",
       "      <td>2051.000000</td>\n",
       "      <td>2.051000e+03</td>\n",
       "      <td>2051.000000</td>\n",
       "      <td>1721.000000</td>\n",
       "      <td>2051.000000</td>\n",
       "      <td>2051.000000</td>\n",
       "      <td>2051.000000</td>\n",
       "      <td>2051.000000</td>\n",
       "      <td>2051.000000</td>\n",
       "      <td>2029.000000</td>\n",
       "      <td>2050.000000</td>\n",
       "      <td>2050.000000</td>\n",
       "      <td>2050.000000</td>\n",
       "      <td>2050.000000</td>\n",
       "      <td>2051.000000</td>\n",
       "      <td>2051.000000</td>\n",
       "      <td>2051.000000</td>\n",
       "      <td>2051.000000</td>\n",
       "      <td>2049.000000</td>\n",
       "      <td>2049.000000</td>\n",
       "      <td>2051.000000</td>\n",
       "      <td>2051.000000</td>\n",
       "      <td>2051.000000</td>\n",
       "      <td>2051.000000</td>\n",
       "      <td>2051.000000</td>\n",
       "      <td>2051.000000</td>\n",
       "      <td>1937.000000</td>\n",
       "      <td>2050.000000</td>\n",
       "      <td>2050.000000</td>\n",
       "      <td>2051.000000</td>\n",
       "      <td>2051.000000</td>\n",
       "      <td>2051.000000</td>\n",
       "      <td>2051.000000</td>\n",
       "      <td>2051.000000</td>\n",
       "      <td>2051.000000</td>\n",
       "      <td>2051.000000</td>\n",
       "      <td>2051.000000</td>\n",
       "      <td>2051.000000</td>\n",
       "      <td>2051.000000</td>\n",
       "    </tr>\n",
       "    <tr>\n",
       "      <th>mean</th>\n",
       "      <td>1474.033642</td>\n",
       "      <td>7.135900e+08</td>\n",
       "      <td>57.008776</td>\n",
       "      <td>69.055200</td>\n",
       "      <td>10065.208191</td>\n",
       "      <td>6.112140</td>\n",
       "      <td>5.562165</td>\n",
       "      <td>1971.708922</td>\n",
       "      <td>1984.190151</td>\n",
       "      <td>99.695909</td>\n",
       "      <td>442.300488</td>\n",
       "      <td>47.959024</td>\n",
       "      <td>567.728293</td>\n",
       "      <td>1057.987805</td>\n",
       "      <td>1164.488055</td>\n",
       "      <td>329.329108</td>\n",
       "      <td>5.512921</td>\n",
       "      <td>1499.330083</td>\n",
       "      <td>0.427526</td>\n",
       "      <td>0.063446</td>\n",
       "      <td>1.577279</td>\n",
       "      <td>0.371039</td>\n",
       "      <td>2.843491</td>\n",
       "      <td>1.042906</td>\n",
       "      <td>6.435885</td>\n",
       "      <td>0.590931</td>\n",
       "      <td>1978.707796</td>\n",
       "      <td>1.776585</td>\n",
       "      <td>473.671707</td>\n",
       "      <td>93.833740</td>\n",
       "      <td>47.556802</td>\n",
       "      <td>22.571916</td>\n",
       "      <td>2.591419</td>\n",
       "      <td>16.511458</td>\n",
       "      <td>2.397855</td>\n",
       "      <td>51.574354</td>\n",
       "      <td>6.219893</td>\n",
       "      <td>2007.775719</td>\n",
       "      <td>181469.701609</td>\n",
       "    </tr>\n",
       "    <tr>\n",
       "      <th>std</th>\n",
       "      <td>843.980841</td>\n",
       "      <td>1.886918e+08</td>\n",
       "      <td>42.824223</td>\n",
       "      <td>23.260653</td>\n",
       "      <td>6742.488909</td>\n",
       "      <td>1.426271</td>\n",
       "      <td>1.104497</td>\n",
       "      <td>30.177889</td>\n",
       "      <td>21.036250</td>\n",
       "      <td>174.963129</td>\n",
       "      <td>461.204124</td>\n",
       "      <td>165.000901</td>\n",
       "      <td>444.954786</td>\n",
       "      <td>449.410704</td>\n",
       "      <td>396.446923</td>\n",
       "      <td>425.671046</td>\n",
       "      <td>51.068870</td>\n",
       "      <td>500.447829</td>\n",
       "      <td>0.522673</td>\n",
       "      <td>0.251705</td>\n",
       "      <td>0.549279</td>\n",
       "      <td>0.501043</td>\n",
       "      <td>0.826618</td>\n",
       "      <td>0.209790</td>\n",
       "      <td>1.560225</td>\n",
       "      <td>0.638516</td>\n",
       "      <td>25.441094</td>\n",
       "      <td>0.764537</td>\n",
       "      <td>215.934561</td>\n",
       "      <td>128.549416</td>\n",
       "      <td>66.747241</td>\n",
       "      <td>59.845110</td>\n",
       "      <td>25.229615</td>\n",
       "      <td>57.374204</td>\n",
       "      <td>37.782570</td>\n",
       "      <td>573.393985</td>\n",
       "      <td>2.744736</td>\n",
       "      <td>1.312014</td>\n",
       "      <td>79258.659352</td>\n",
       "    </tr>\n",
       "    <tr>\n",
       "      <th>min</th>\n",
       "      <td>1.000000</td>\n",
       "      <td>5.263011e+08</td>\n",
       "      <td>20.000000</td>\n",
       "      <td>21.000000</td>\n",
       "      <td>1300.000000</td>\n",
       "      <td>1.000000</td>\n",
       "      <td>1.000000</td>\n",
       "      <td>1872.000000</td>\n",
       "      <td>1950.000000</td>\n",
       "      <td>0.000000</td>\n",
       "      <td>0.000000</td>\n",
       "      <td>0.000000</td>\n",
       "      <td>0.000000</td>\n",
       "      <td>0.000000</td>\n",
       "      <td>334.000000</td>\n",
       "      <td>0.000000</td>\n",
       "      <td>0.000000</td>\n",
       "      <td>334.000000</td>\n",
       "      <td>0.000000</td>\n",
       "      <td>0.000000</td>\n",
       "      <td>0.000000</td>\n",
       "      <td>0.000000</td>\n",
       "      <td>0.000000</td>\n",
       "      <td>0.000000</td>\n",
       "      <td>2.000000</td>\n",
       "      <td>0.000000</td>\n",
       "      <td>1895.000000</td>\n",
       "      <td>0.000000</td>\n",
       "      <td>0.000000</td>\n",
       "      <td>0.000000</td>\n",
       "      <td>0.000000</td>\n",
       "      <td>0.000000</td>\n",
       "      <td>0.000000</td>\n",
       "      <td>0.000000</td>\n",
       "      <td>0.000000</td>\n",
       "      <td>0.000000</td>\n",
       "      <td>1.000000</td>\n",
       "      <td>2006.000000</td>\n",
       "      <td>12789.000000</td>\n",
       "    </tr>\n",
       "    <tr>\n",
       "      <th>25%</th>\n",
       "      <td>753.500000</td>\n",
       "      <td>5.284581e+08</td>\n",
       "      <td>20.000000</td>\n",
       "      <td>58.000000</td>\n",
       "      <td>7500.000000</td>\n",
       "      <td>5.000000</td>\n",
       "      <td>5.000000</td>\n",
       "      <td>1953.500000</td>\n",
       "      <td>1964.500000</td>\n",
       "      <td>0.000000</td>\n",
       "      <td>0.000000</td>\n",
       "      <td>0.000000</td>\n",
       "      <td>220.000000</td>\n",
       "      <td>793.000000</td>\n",
       "      <td>879.500000</td>\n",
       "      <td>0.000000</td>\n",
       "      <td>0.000000</td>\n",
       "      <td>1129.000000</td>\n",
       "      <td>0.000000</td>\n",
       "      <td>0.000000</td>\n",
       "      <td>1.000000</td>\n",
       "      <td>0.000000</td>\n",
       "      <td>2.000000</td>\n",
       "      <td>1.000000</td>\n",
       "      <td>5.000000</td>\n",
       "      <td>0.000000</td>\n",
       "      <td>1961.000000</td>\n",
       "      <td>1.000000</td>\n",
       "      <td>319.000000</td>\n",
       "      <td>0.000000</td>\n",
       "      <td>0.000000</td>\n",
       "      <td>0.000000</td>\n",
       "      <td>0.000000</td>\n",
       "      <td>0.000000</td>\n",
       "      <td>0.000000</td>\n",
       "      <td>0.000000</td>\n",
       "      <td>4.000000</td>\n",
       "      <td>2007.000000</td>\n",
       "      <td>129825.000000</td>\n",
       "    </tr>\n",
       "    <tr>\n",
       "      <th>50%</th>\n",
       "      <td>1486.000000</td>\n",
       "      <td>5.354532e+08</td>\n",
       "      <td>50.000000</td>\n",
       "      <td>68.000000</td>\n",
       "      <td>9430.000000</td>\n",
       "      <td>6.000000</td>\n",
       "      <td>5.000000</td>\n",
       "      <td>1974.000000</td>\n",
       "      <td>1993.000000</td>\n",
       "      <td>0.000000</td>\n",
       "      <td>368.000000</td>\n",
       "      <td>0.000000</td>\n",
       "      <td>474.500000</td>\n",
       "      <td>994.500000</td>\n",
       "      <td>1093.000000</td>\n",
       "      <td>0.000000</td>\n",
       "      <td>0.000000</td>\n",
       "      <td>1444.000000</td>\n",
       "      <td>0.000000</td>\n",
       "      <td>0.000000</td>\n",
       "      <td>2.000000</td>\n",
       "      <td>0.000000</td>\n",
       "      <td>3.000000</td>\n",
       "      <td>1.000000</td>\n",
       "      <td>6.000000</td>\n",
       "      <td>1.000000</td>\n",
       "      <td>1980.000000</td>\n",
       "      <td>2.000000</td>\n",
       "      <td>480.000000</td>\n",
       "      <td>0.000000</td>\n",
       "      <td>27.000000</td>\n",
       "      <td>0.000000</td>\n",
       "      <td>0.000000</td>\n",
       "      <td>0.000000</td>\n",
       "      <td>0.000000</td>\n",
       "      <td>0.000000</td>\n",
       "      <td>6.000000</td>\n",
       "      <td>2008.000000</td>\n",
       "      <td>162500.000000</td>\n",
       "    </tr>\n",
       "    <tr>\n",
       "      <th>75%</th>\n",
       "      <td>2198.000000</td>\n",
       "      <td>9.071801e+08</td>\n",
       "      <td>70.000000</td>\n",
       "      <td>80.000000</td>\n",
       "      <td>11513.500000</td>\n",
       "      <td>7.000000</td>\n",
       "      <td>6.000000</td>\n",
       "      <td>2001.000000</td>\n",
       "      <td>2004.000000</td>\n",
       "      <td>161.000000</td>\n",
       "      <td>733.750000</td>\n",
       "      <td>0.000000</td>\n",
       "      <td>811.000000</td>\n",
       "      <td>1318.750000</td>\n",
       "      <td>1405.000000</td>\n",
       "      <td>692.500000</td>\n",
       "      <td>0.000000</td>\n",
       "      <td>1728.500000</td>\n",
       "      <td>1.000000</td>\n",
       "      <td>0.000000</td>\n",
       "      <td>2.000000</td>\n",
       "      <td>1.000000</td>\n",
       "      <td>3.000000</td>\n",
       "      <td>1.000000</td>\n",
       "      <td>7.000000</td>\n",
       "      <td>1.000000</td>\n",
       "      <td>2002.000000</td>\n",
       "      <td>2.000000</td>\n",
       "      <td>576.000000</td>\n",
       "      <td>168.000000</td>\n",
       "      <td>70.000000</td>\n",
       "      <td>0.000000</td>\n",
       "      <td>0.000000</td>\n",
       "      <td>0.000000</td>\n",
       "      <td>0.000000</td>\n",
       "      <td>0.000000</td>\n",
       "      <td>8.000000</td>\n",
       "      <td>2009.000000</td>\n",
       "      <td>214000.000000</td>\n",
       "    </tr>\n",
       "    <tr>\n",
       "      <th>max</th>\n",
       "      <td>2930.000000</td>\n",
       "      <td>9.241520e+08</td>\n",
       "      <td>190.000000</td>\n",
       "      <td>313.000000</td>\n",
       "      <td>159000.000000</td>\n",
       "      <td>10.000000</td>\n",
       "      <td>9.000000</td>\n",
       "      <td>2010.000000</td>\n",
       "      <td>2010.000000</td>\n",
       "      <td>1600.000000</td>\n",
       "      <td>5644.000000</td>\n",
       "      <td>1474.000000</td>\n",
       "      <td>2336.000000</td>\n",
       "      <td>6110.000000</td>\n",
       "      <td>5095.000000</td>\n",
       "      <td>1862.000000</td>\n",
       "      <td>1064.000000</td>\n",
       "      <td>5642.000000</td>\n",
       "      <td>3.000000</td>\n",
       "      <td>2.000000</td>\n",
       "      <td>4.000000</td>\n",
       "      <td>2.000000</td>\n",
       "      <td>8.000000</td>\n",
       "      <td>3.000000</td>\n",
       "      <td>15.000000</td>\n",
       "      <td>4.000000</td>\n",
       "      <td>2207.000000</td>\n",
       "      <td>5.000000</td>\n",
       "      <td>1418.000000</td>\n",
       "      <td>1424.000000</td>\n",
       "      <td>547.000000</td>\n",
       "      <td>432.000000</td>\n",
       "      <td>508.000000</td>\n",
       "      <td>490.000000</td>\n",
       "      <td>800.000000</td>\n",
       "      <td>17000.000000</td>\n",
       "      <td>12.000000</td>\n",
       "      <td>2010.000000</td>\n",
       "      <td>611657.000000</td>\n",
       "    </tr>\n",
       "  </tbody>\n",
       "</table>\n",
       "</div>"
      ],
      "text/plain": [
       "                id           pid  ms_subclass  lot_frontage       lot_area  \\\n",
       "count  2051.000000  2.051000e+03  2051.000000   1721.000000    2051.000000   \n",
       "mean   1474.033642  7.135900e+08    57.008776     69.055200   10065.208191   \n",
       "std     843.980841  1.886918e+08    42.824223     23.260653    6742.488909   \n",
       "min       1.000000  5.263011e+08    20.000000     21.000000    1300.000000   \n",
       "25%     753.500000  5.284581e+08    20.000000     58.000000    7500.000000   \n",
       "50%    1486.000000  5.354532e+08    50.000000     68.000000    9430.000000   \n",
       "75%    2198.000000  9.071801e+08    70.000000     80.000000   11513.500000   \n",
       "max    2930.000000  9.241520e+08   190.000000    313.000000  159000.000000   \n",
       "\n",
       "       overall_qual  overall_cond   year_built  year_remod/add  mas_vnr_area  \\\n",
       "count   2051.000000   2051.000000  2051.000000     2051.000000   2029.000000   \n",
       "mean       6.112140      5.562165  1971.708922     1984.190151     99.695909   \n",
       "std        1.426271      1.104497    30.177889       21.036250    174.963129   \n",
       "min        1.000000      1.000000  1872.000000     1950.000000      0.000000   \n",
       "25%        5.000000      5.000000  1953.500000     1964.500000      0.000000   \n",
       "50%        6.000000      5.000000  1974.000000     1993.000000      0.000000   \n",
       "75%        7.000000      6.000000  2001.000000     2004.000000    161.000000   \n",
       "max       10.000000      9.000000  2010.000000     2010.000000   1600.000000   \n",
       "\n",
       "       bsmtfin_sf_1  bsmtfin_sf_2  bsmt_unf_sf  total_bsmt_sf   1st_flr_sf  \\\n",
       "count   2050.000000   2050.000000  2050.000000    2050.000000  2051.000000   \n",
       "mean     442.300488     47.959024   567.728293    1057.987805  1164.488055   \n",
       "std      461.204124    165.000901   444.954786     449.410704   396.446923   \n",
       "min        0.000000      0.000000     0.000000       0.000000   334.000000   \n",
       "25%        0.000000      0.000000   220.000000     793.000000   879.500000   \n",
       "50%      368.000000      0.000000   474.500000     994.500000  1093.000000   \n",
       "75%      733.750000      0.000000   811.000000    1318.750000  1405.000000   \n",
       "max     5644.000000   1474.000000  2336.000000    6110.000000  5095.000000   \n",
       "\n",
       "        2nd_flr_sf  low_qual_fin_sf  gr_liv_area  bsmt_full_bath  \\\n",
       "count  2051.000000      2051.000000  2051.000000     2049.000000   \n",
       "mean    329.329108         5.512921  1499.330083        0.427526   \n",
       "std     425.671046        51.068870   500.447829        0.522673   \n",
       "min       0.000000         0.000000   334.000000        0.000000   \n",
       "25%       0.000000         0.000000  1129.000000        0.000000   \n",
       "50%       0.000000         0.000000  1444.000000        0.000000   \n",
       "75%     692.500000         0.000000  1728.500000        1.000000   \n",
       "max    1862.000000      1064.000000  5642.000000        3.000000   \n",
       "\n",
       "       bsmt_half_bath    full_bath    half_bath  bedroom_abvgr  kitchen_abvgr  \\\n",
       "count     2049.000000  2051.000000  2051.000000    2051.000000    2051.000000   \n",
       "mean         0.063446     1.577279     0.371039       2.843491       1.042906   \n",
       "std          0.251705     0.549279     0.501043       0.826618       0.209790   \n",
       "min          0.000000     0.000000     0.000000       0.000000       0.000000   \n",
       "25%          0.000000     1.000000     0.000000       2.000000       1.000000   \n",
       "50%          0.000000     2.000000     0.000000       3.000000       1.000000   \n",
       "75%          0.000000     2.000000     1.000000       3.000000       1.000000   \n",
       "max          2.000000     4.000000     2.000000       8.000000       3.000000   \n",
       "\n",
       "       totrms_abvgrd   fireplaces  garage_yr_blt  garage_cars  garage_area  \\\n",
       "count    2051.000000  2051.000000    1937.000000  2050.000000  2050.000000   \n",
       "mean        6.435885     0.590931    1978.707796     1.776585   473.671707   \n",
       "std         1.560225     0.638516      25.441094     0.764537   215.934561   \n",
       "min         2.000000     0.000000    1895.000000     0.000000     0.000000   \n",
       "25%         5.000000     0.000000    1961.000000     1.000000   319.000000   \n",
       "50%         6.000000     1.000000    1980.000000     2.000000   480.000000   \n",
       "75%         7.000000     1.000000    2002.000000     2.000000   576.000000   \n",
       "max        15.000000     4.000000    2207.000000     5.000000  1418.000000   \n",
       "\n",
       "       wood_deck_sf  open_porch_sf  enclosed_porch   3ssn_porch  screen_porch  \\\n",
       "count   2051.000000    2051.000000     2051.000000  2051.000000   2051.000000   \n",
       "mean      93.833740      47.556802       22.571916     2.591419     16.511458   \n",
       "std      128.549416      66.747241       59.845110    25.229615     57.374204   \n",
       "min        0.000000       0.000000        0.000000     0.000000      0.000000   \n",
       "25%        0.000000       0.000000        0.000000     0.000000      0.000000   \n",
       "50%        0.000000      27.000000        0.000000     0.000000      0.000000   \n",
       "75%      168.000000      70.000000        0.000000     0.000000      0.000000   \n",
       "max     1424.000000     547.000000      432.000000   508.000000    490.000000   \n",
       "\n",
       "         pool_area      misc_val      mo_sold      yr_sold      saleprice  \n",
       "count  2051.000000   2051.000000  2051.000000  2051.000000    2051.000000  \n",
       "mean      2.397855     51.574354     6.219893  2007.775719  181469.701609  \n",
       "std      37.782570    573.393985     2.744736     1.312014   79258.659352  \n",
       "min       0.000000      0.000000     1.000000  2006.000000   12789.000000  \n",
       "25%       0.000000      0.000000     4.000000  2007.000000  129825.000000  \n",
       "50%       0.000000      0.000000     6.000000  2008.000000  162500.000000  \n",
       "75%       0.000000      0.000000     8.000000  2009.000000  214000.000000  \n",
       "max     800.000000  17000.000000    12.000000  2010.000000  611657.000000  "
      ]
     },
     "execution_count": 1630,
     "metadata": {},
     "output_type": "execute_result"
    }
   ],
   "source": [
    "pd.set_option('display.max_columns', None)\n",
    "training.describe()"
   ]
  },
  {
   "cell_type": "code",
   "execution_count": 1631,
   "id": "09b9b1ae",
   "metadata": {
    "scrolled": true
   },
   "outputs": [
    {
     "data": {
      "text/html": [
       "<div>\n",
       "<style scoped>\n",
       "    .dataframe tbody tr th:only-of-type {\n",
       "        vertical-align: middle;\n",
       "    }\n",
       "\n",
       "    .dataframe tbody tr th {\n",
       "        vertical-align: top;\n",
       "    }\n",
       "\n",
       "    .dataframe thead th {\n",
       "        text-align: right;\n",
       "    }\n",
       "</style>\n",
       "<table border=\"1\" class=\"dataframe\">\n",
       "  <thead>\n",
       "    <tr style=\"text-align: right;\">\n",
       "      <th></th>\n",
       "      <th>id</th>\n",
       "      <th>pid</th>\n",
       "      <th>ms_subclass</th>\n",
       "      <th>lot_frontage</th>\n",
       "      <th>lot_area</th>\n",
       "      <th>overall_qual</th>\n",
       "      <th>overall_cond</th>\n",
       "      <th>year_built</th>\n",
       "      <th>year_remod/add</th>\n",
       "      <th>mas_vnr_area</th>\n",
       "      <th>bsmtfin_sf_1</th>\n",
       "      <th>bsmtfin_sf_2</th>\n",
       "      <th>bsmt_unf_sf</th>\n",
       "      <th>total_bsmt_sf</th>\n",
       "      <th>1st_flr_sf</th>\n",
       "      <th>2nd_flr_sf</th>\n",
       "      <th>low_qual_fin_sf</th>\n",
       "      <th>gr_liv_area</th>\n",
       "      <th>bsmt_full_bath</th>\n",
       "      <th>bsmt_half_bath</th>\n",
       "      <th>full_bath</th>\n",
       "      <th>half_bath</th>\n",
       "      <th>bedroom_abvgr</th>\n",
       "      <th>kitchen_abvgr</th>\n",
       "      <th>totrms_abvgrd</th>\n",
       "      <th>fireplaces</th>\n",
       "      <th>garage_yr_blt</th>\n",
       "      <th>garage_cars</th>\n",
       "      <th>garage_area</th>\n",
       "      <th>wood_deck_sf</th>\n",
       "      <th>open_porch_sf</th>\n",
       "      <th>enclosed_porch</th>\n",
       "      <th>3ssn_porch</th>\n",
       "      <th>screen_porch</th>\n",
       "      <th>pool_area</th>\n",
       "      <th>misc_val</th>\n",
       "      <th>mo_sold</th>\n",
       "      <th>yr_sold</th>\n",
       "    </tr>\n",
       "  </thead>\n",
       "  <tbody>\n",
       "    <tr>\n",
       "      <th>count</th>\n",
       "      <td>878.000000</td>\n",
       "      <td>8.780000e+02</td>\n",
       "      <td>878.000000</td>\n",
       "      <td>718.000000</td>\n",
       "      <td>878.000000</td>\n",
       "      <td>878.000000</td>\n",
       "      <td>878.000000</td>\n",
       "      <td>878.000000</td>\n",
       "      <td>878.000000</td>\n",
       "      <td>877.000000</td>\n",
       "      <td>878.000000</td>\n",
       "      <td>878.000000</td>\n",
       "      <td>878.000000</td>\n",
       "      <td>878.000000</td>\n",
       "      <td>878.000000</td>\n",
       "      <td>878.000000</td>\n",
       "      <td>878.000000</td>\n",
       "      <td>878.000000</td>\n",
       "      <td>878.000000</td>\n",
       "      <td>878.000000</td>\n",
       "      <td>878.000000</td>\n",
       "      <td>878.000000</td>\n",
       "      <td>878.000000</td>\n",
       "      <td>878.000000</td>\n",
       "      <td>878.000000</td>\n",
       "      <td>878.000000</td>\n",
       "      <td>833.000000</td>\n",
       "      <td>878.000000</td>\n",
       "      <td>878.000000</td>\n",
       "      <td>878.000000</td>\n",
       "      <td>878.000000</td>\n",
       "      <td>878.000000</td>\n",
       "      <td>878.000000</td>\n",
       "      <td>878.000000</td>\n",
       "      <td>878.000000</td>\n",
       "      <td>878.000000</td>\n",
       "      <td>878.000000</td>\n",
       "      <td>878.000000</td>\n",
       "    </tr>\n",
       "    <tr>\n",
       "      <th>mean</th>\n",
       "      <td>1444.749431</td>\n",
       "      <td>7.162867e+08</td>\n",
       "      <td>58.268793</td>\n",
       "      <td>69.545961</td>\n",
       "      <td>10307.033030</td>\n",
       "      <td>6.050114</td>\n",
       "      <td>5.566059</td>\n",
       "      <td>1970.492027</td>\n",
       "      <td>1984.417995</td>\n",
       "      <td>106.236032</td>\n",
       "      <td>441.328018</td>\n",
       "      <td>53.896355</td>\n",
       "      <td>539.133257</td>\n",
       "      <td>1034.357631</td>\n",
       "      <td>1145.787016</td>\n",
       "      <td>348.398633</td>\n",
       "      <td>2.728929</td>\n",
       "      <td>1496.914579</td>\n",
       "      <td>0.439636</td>\n",
       "      <td>0.055809</td>\n",
       "      <td>1.539863</td>\n",
       "      <td>0.398633</td>\n",
       "      <td>2.879271</td>\n",
       "      <td>1.047836</td>\n",
       "      <td>6.454442</td>\n",
       "      <td>0.618451</td>\n",
       "      <td>1976.759904</td>\n",
       "      <td>1.742597</td>\n",
       "      <td>470.362187</td>\n",
       "      <td>93.430524</td>\n",
       "      <td>47.070615</td>\n",
       "      <td>24.064920</td>\n",
       "      <td>2.597950</td>\n",
       "      <td>14.830296</td>\n",
       "      <td>1.884966</td>\n",
       "      <td>48.498861</td>\n",
       "      <td>6.202733</td>\n",
       "      <td>2007.825740</td>\n",
       "    </tr>\n",
       "    <tr>\n",
       "      <th>std</th>\n",
       "      <td>850.838263</td>\n",
       "      <td>1.889103e+08</td>\n",
       "      <td>42.235407</td>\n",
       "      <td>23.533945</td>\n",
       "      <td>10002.674602</td>\n",
       "      <td>1.369065</td>\n",
       "      <td>1.128903</td>\n",
       "      <td>30.395895</td>\n",
       "      <td>20.450725</td>\n",
       "      <td>187.158908</td>\n",
       "      <td>438.457329</td>\n",
       "      <td>178.632355</td>\n",
       "      <td>426.172161</td>\n",
       "      <td>413.446291</td>\n",
       "      <td>375.264111</td>\n",
       "      <td>432.985566</td>\n",
       "      <td>32.572548</td>\n",
       "      <td>506.468967</td>\n",
       "      <td>0.529948</td>\n",
       "      <td>0.229683</td>\n",
       "      <td>0.559060</td>\n",
       "      <td>0.505927</td>\n",
       "      <td>0.830712</td>\n",
       "      <td>0.223966</td>\n",
       "      <td>1.596632</td>\n",
       "      <td>0.669571</td>\n",
       "      <td>25.689763</td>\n",
       "      <td>0.750391</td>\n",
       "      <td>212.734075</td>\n",
       "      <td>121.181702</td>\n",
       "      <td>68.180939</td>\n",
       "      <td>73.249463</td>\n",
       "      <td>24.962482</td>\n",
       "      <td>53.003794</td>\n",
       "      <td>29.916672</td>\n",
       "      <td>550.169317</td>\n",
       "      <td>2.642498</td>\n",
       "      <td>1.327861</td>\n",
       "    </tr>\n",
       "    <tr>\n",
       "      <th>min</th>\n",
       "      <td>2.000000</td>\n",
       "      <td>5.263021e+08</td>\n",
       "      <td>20.000000</td>\n",
       "      <td>21.000000</td>\n",
       "      <td>1477.000000</td>\n",
       "      <td>2.000000</td>\n",
       "      <td>1.000000</td>\n",
       "      <td>1880.000000</td>\n",
       "      <td>1950.000000</td>\n",
       "      <td>0.000000</td>\n",
       "      <td>0.000000</td>\n",
       "      <td>0.000000</td>\n",
       "      <td>0.000000</td>\n",
       "      <td>0.000000</td>\n",
       "      <td>407.000000</td>\n",
       "      <td>0.000000</td>\n",
       "      <td>0.000000</td>\n",
       "      <td>407.000000</td>\n",
       "      <td>0.000000</td>\n",
       "      <td>0.000000</td>\n",
       "      <td>0.000000</td>\n",
       "      <td>0.000000</td>\n",
       "      <td>0.000000</td>\n",
       "      <td>0.000000</td>\n",
       "      <td>3.000000</td>\n",
       "      <td>0.000000</td>\n",
       "      <td>1900.000000</td>\n",
       "      <td>0.000000</td>\n",
       "      <td>0.000000</td>\n",
       "      <td>0.000000</td>\n",
       "      <td>0.000000</td>\n",
       "      <td>0.000000</td>\n",
       "      <td>0.000000</td>\n",
       "      <td>0.000000</td>\n",
       "      <td>0.000000</td>\n",
       "      <td>0.000000</td>\n",
       "      <td>1.000000</td>\n",
       "      <td>2006.000000</td>\n",
       "    </tr>\n",
       "    <tr>\n",
       "      <th>25%</th>\n",
       "      <td>692.250000</td>\n",
       "      <td>5.284841e+08</td>\n",
       "      <td>20.000000</td>\n",
       "      <td>59.000000</td>\n",
       "      <td>7297.250000</td>\n",
       "      <td>5.000000</td>\n",
       "      <td>5.000000</td>\n",
       "      <td>1954.000000</td>\n",
       "      <td>1967.000000</td>\n",
       "      <td>0.000000</td>\n",
       "      <td>0.000000</td>\n",
       "      <td>0.000000</td>\n",
       "      <td>216.000000</td>\n",
       "      <td>789.000000</td>\n",
       "      <td>864.000000</td>\n",
       "      <td>0.000000</td>\n",
       "      <td>0.000000</td>\n",
       "      <td>1114.000000</td>\n",
       "      <td>0.000000</td>\n",
       "      <td>0.000000</td>\n",
       "      <td>1.000000</td>\n",
       "      <td>0.000000</td>\n",
       "      <td>2.000000</td>\n",
       "      <td>1.000000</td>\n",
       "      <td>5.000000</td>\n",
       "      <td>0.000000</td>\n",
       "      <td>1960.000000</td>\n",
       "      <td>1.000000</td>\n",
       "      <td>322.500000</td>\n",
       "      <td>0.000000</td>\n",
       "      <td>0.000000</td>\n",
       "      <td>0.000000</td>\n",
       "      <td>0.000000</td>\n",
       "      <td>0.000000</td>\n",
       "      <td>0.000000</td>\n",
       "      <td>0.000000</td>\n",
       "      <td>5.000000</td>\n",
       "      <td>2007.000000</td>\n",
       "    </tr>\n",
       "    <tr>\n",
       "      <th>50%</th>\n",
       "      <td>1433.000000</td>\n",
       "      <td>5.354542e+08</td>\n",
       "      <td>50.000000</td>\n",
       "      <td>68.000000</td>\n",
       "      <td>9446.000000</td>\n",
       "      <td>6.000000</td>\n",
       "      <td>5.000000</td>\n",
       "      <td>1972.000000</td>\n",
       "      <td>1992.000000</td>\n",
       "      <td>0.000000</td>\n",
       "      <td>373.000000</td>\n",
       "      <td>0.000000</td>\n",
       "      <td>452.000000</td>\n",
       "      <td>975.000000</td>\n",
       "      <td>1063.000000</td>\n",
       "      <td>0.000000</td>\n",
       "      <td>0.000000</td>\n",
       "      <td>1436.000000</td>\n",
       "      <td>0.000000</td>\n",
       "      <td>0.000000</td>\n",
       "      <td>2.000000</td>\n",
       "      <td>0.000000</td>\n",
       "      <td>3.000000</td>\n",
       "      <td>1.000000</td>\n",
       "      <td>6.000000</td>\n",
       "      <td>1.000000</td>\n",
       "      <td>1978.000000</td>\n",
       "      <td>2.000000</td>\n",
       "      <td>473.000000</td>\n",
       "      <td>0.000000</td>\n",
       "      <td>27.000000</td>\n",
       "      <td>0.000000</td>\n",
       "      <td>0.000000</td>\n",
       "      <td>0.000000</td>\n",
       "      <td>0.000000</td>\n",
       "      <td>0.000000</td>\n",
       "      <td>6.000000</td>\n",
       "      <td>2008.000000</td>\n",
       "    </tr>\n",
       "    <tr>\n",
       "      <th>75%</th>\n",
       "      <td>2197.500000</td>\n",
       "      <td>9.071904e+08</td>\n",
       "      <td>70.000000</td>\n",
       "      <td>80.000000</td>\n",
       "      <td>11589.000000</td>\n",
       "      <td>7.000000</td>\n",
       "      <td>6.000000</td>\n",
       "      <td>1999.750000</td>\n",
       "      <td>2003.000000</td>\n",
       "      <td>172.000000</td>\n",
       "      <td>734.750000</td>\n",
       "      <td>0.000000</td>\n",
       "      <td>780.000000</td>\n",
       "      <td>1247.000000</td>\n",
       "      <td>1358.000000</td>\n",
       "      <td>720.000000</td>\n",
       "      <td>0.000000</td>\n",
       "      <td>1779.000000</td>\n",
       "      <td>1.000000</td>\n",
       "      <td>0.000000</td>\n",
       "      <td>2.000000</td>\n",
       "      <td>1.000000</td>\n",
       "      <td>3.000000</td>\n",
       "      <td>1.000000</td>\n",
       "      <td>7.000000</td>\n",
       "      <td>1.000000</td>\n",
       "      <td>2001.000000</td>\n",
       "      <td>2.000000</td>\n",
       "      <td>576.000000</td>\n",
       "      <td>170.750000</td>\n",
       "      <td>69.750000</td>\n",
       "      <td>0.000000</td>\n",
       "      <td>0.000000</td>\n",
       "      <td>0.000000</td>\n",
       "      <td>0.000000</td>\n",
       "      <td>0.000000</td>\n",
       "      <td>8.000000</td>\n",
       "      <td>2009.000000</td>\n",
       "    </tr>\n",
       "    <tr>\n",
       "      <th>max</th>\n",
       "      <td>2928.000000</td>\n",
       "      <td>1.007100e+09</td>\n",
       "      <td>190.000000</td>\n",
       "      <td>182.000000</td>\n",
       "      <td>215245.000000</td>\n",
       "      <td>10.000000</td>\n",
       "      <td>9.000000</td>\n",
       "      <td>2010.000000</td>\n",
       "      <td>2010.000000</td>\n",
       "      <td>1378.000000</td>\n",
       "      <td>2288.000000</td>\n",
       "      <td>1526.000000</td>\n",
       "      <td>2046.000000</td>\n",
       "      <td>2630.000000</td>\n",
       "      <td>2674.000000</td>\n",
       "      <td>2065.000000</td>\n",
       "      <td>481.000000</td>\n",
       "      <td>4476.000000</td>\n",
       "      <td>2.000000</td>\n",
       "      <td>1.000000</td>\n",
       "      <td>4.000000</td>\n",
       "      <td>2.000000</td>\n",
       "      <td>6.000000</td>\n",
       "      <td>3.000000</td>\n",
       "      <td>12.000000</td>\n",
       "      <td>3.000000</td>\n",
       "      <td>2010.000000</td>\n",
       "      <td>4.000000</td>\n",
       "      <td>1488.000000</td>\n",
       "      <td>690.000000</td>\n",
       "      <td>742.000000</td>\n",
       "      <td>1012.000000</td>\n",
       "      <td>360.000000</td>\n",
       "      <td>576.000000</td>\n",
       "      <td>555.000000</td>\n",
       "      <td>15500.000000</td>\n",
       "      <td>12.000000</td>\n",
       "      <td>2010.000000</td>\n",
       "    </tr>\n",
       "  </tbody>\n",
       "</table>\n",
       "</div>"
      ],
      "text/plain": [
       "                id           pid  ms_subclass  lot_frontage       lot_area  \\\n",
       "count   878.000000  8.780000e+02   878.000000    718.000000     878.000000   \n",
       "mean   1444.749431  7.162867e+08    58.268793     69.545961   10307.033030   \n",
       "std     850.838263  1.889103e+08    42.235407     23.533945   10002.674602   \n",
       "min       2.000000  5.263021e+08    20.000000     21.000000    1477.000000   \n",
       "25%     692.250000  5.284841e+08    20.000000     59.000000    7297.250000   \n",
       "50%    1433.000000  5.354542e+08    50.000000     68.000000    9446.000000   \n",
       "75%    2197.500000  9.071904e+08    70.000000     80.000000   11589.000000   \n",
       "max    2928.000000  1.007100e+09   190.000000    182.000000  215245.000000   \n",
       "\n",
       "       overall_qual  overall_cond   year_built  year_remod/add  mas_vnr_area  \\\n",
       "count    878.000000    878.000000   878.000000      878.000000    877.000000   \n",
       "mean       6.050114      5.566059  1970.492027     1984.417995    106.236032   \n",
       "std        1.369065      1.128903    30.395895       20.450725    187.158908   \n",
       "min        2.000000      1.000000  1880.000000     1950.000000      0.000000   \n",
       "25%        5.000000      5.000000  1954.000000     1967.000000      0.000000   \n",
       "50%        6.000000      5.000000  1972.000000     1992.000000      0.000000   \n",
       "75%        7.000000      6.000000  1999.750000     2003.000000    172.000000   \n",
       "max       10.000000      9.000000  2010.000000     2010.000000   1378.000000   \n",
       "\n",
       "       bsmtfin_sf_1  bsmtfin_sf_2  bsmt_unf_sf  total_bsmt_sf   1st_flr_sf  \\\n",
       "count    878.000000    878.000000   878.000000     878.000000   878.000000   \n",
       "mean     441.328018     53.896355   539.133257    1034.357631  1145.787016   \n",
       "std      438.457329    178.632355   426.172161     413.446291   375.264111   \n",
       "min        0.000000      0.000000     0.000000       0.000000   407.000000   \n",
       "25%        0.000000      0.000000   216.000000     789.000000   864.000000   \n",
       "50%      373.000000      0.000000   452.000000     975.000000  1063.000000   \n",
       "75%      734.750000      0.000000   780.000000    1247.000000  1358.000000   \n",
       "max     2288.000000   1526.000000  2046.000000    2630.000000  2674.000000   \n",
       "\n",
       "        2nd_flr_sf  low_qual_fin_sf  gr_liv_area  bsmt_full_bath  \\\n",
       "count   878.000000       878.000000   878.000000      878.000000   \n",
       "mean    348.398633         2.728929  1496.914579        0.439636   \n",
       "std     432.985566        32.572548   506.468967        0.529948   \n",
       "min       0.000000         0.000000   407.000000        0.000000   \n",
       "25%       0.000000         0.000000  1114.000000        0.000000   \n",
       "50%       0.000000         0.000000  1436.000000        0.000000   \n",
       "75%     720.000000         0.000000  1779.000000        1.000000   \n",
       "max    2065.000000       481.000000  4476.000000        2.000000   \n",
       "\n",
       "       bsmt_half_bath   full_bath   half_bath  bedroom_abvgr  kitchen_abvgr  \\\n",
       "count      878.000000  878.000000  878.000000     878.000000     878.000000   \n",
       "mean         0.055809    1.539863    0.398633       2.879271       1.047836   \n",
       "std          0.229683    0.559060    0.505927       0.830712       0.223966   \n",
       "min          0.000000    0.000000    0.000000       0.000000       0.000000   \n",
       "25%          0.000000    1.000000    0.000000       2.000000       1.000000   \n",
       "50%          0.000000    2.000000    0.000000       3.000000       1.000000   \n",
       "75%          0.000000    2.000000    1.000000       3.000000       1.000000   \n",
       "max          1.000000    4.000000    2.000000       6.000000       3.000000   \n",
       "\n",
       "       totrms_abvgrd  fireplaces  garage_yr_blt  garage_cars  garage_area  \\\n",
       "count     878.000000  878.000000     833.000000   878.000000   878.000000   \n",
       "mean        6.454442    0.618451    1976.759904     1.742597   470.362187   \n",
       "std         1.596632    0.669571      25.689763     0.750391   212.734075   \n",
       "min         3.000000    0.000000    1900.000000     0.000000     0.000000   \n",
       "25%         5.000000    0.000000    1960.000000     1.000000   322.500000   \n",
       "50%         6.000000    1.000000    1978.000000     2.000000   473.000000   \n",
       "75%         7.000000    1.000000    2001.000000     2.000000   576.000000   \n",
       "max        12.000000    3.000000    2010.000000     4.000000  1488.000000   \n",
       "\n",
       "       wood_deck_sf  open_porch_sf  enclosed_porch  3ssn_porch  screen_porch  \\\n",
       "count    878.000000     878.000000      878.000000  878.000000    878.000000   \n",
       "mean      93.430524      47.070615       24.064920    2.597950     14.830296   \n",
       "std      121.181702      68.180939       73.249463   24.962482     53.003794   \n",
       "min        0.000000       0.000000        0.000000    0.000000      0.000000   \n",
       "25%        0.000000       0.000000        0.000000    0.000000      0.000000   \n",
       "50%        0.000000      27.000000        0.000000    0.000000      0.000000   \n",
       "75%      170.750000      69.750000        0.000000    0.000000      0.000000   \n",
       "max      690.000000     742.000000     1012.000000  360.000000    576.000000   \n",
       "\n",
       "        pool_area      misc_val     mo_sold      yr_sold  \n",
       "count  878.000000    878.000000  878.000000   878.000000  \n",
       "mean     1.884966     48.498861    6.202733  2007.825740  \n",
       "std     29.916672    550.169317    2.642498     1.327861  \n",
       "min      0.000000      0.000000    1.000000  2006.000000  \n",
       "25%      0.000000      0.000000    5.000000  2007.000000  \n",
       "50%      0.000000      0.000000    6.000000  2008.000000  \n",
       "75%      0.000000      0.000000    8.000000  2009.000000  \n",
       "max    555.000000  15500.000000   12.000000  2010.000000  "
      ]
     },
     "execution_count": 1631,
     "metadata": {},
     "output_type": "execute_result"
    }
   ],
   "source": [
    "pd.set_option('display.max_columns', None)\n",
    "submission.describe()"
   ]
  },
  {
   "cell_type": "code",
   "execution_count": 1632,
   "id": "91488c74",
   "metadata": {},
   "outputs": [
    {
     "data": {
      "text/plain": [
       "0    475.0\n",
       "1    559.0\n",
       "2    246.0\n",
       "3    400.0\n",
       "4    484.0\n",
       "Name: garage_area, dtype: float64"
      ]
     },
     "execution_count": 1632,
     "metadata": {},
     "output_type": "execute_result"
    }
   ],
   "source": [
    "training['garage_area'].head()"
   ]
  },
  {
   "cell_type": "code",
   "execution_count": 1633,
   "id": "d300aab8",
   "metadata": {
    "scrolled": false
   },
   "outputs": [
    {
     "data": {
      "text/plain": [
       "id                    0\n",
       "pid                   0\n",
       "ms_subclass           0\n",
       "ms_zoning             0\n",
       "lot_frontage        330\n",
       "lot_area              0\n",
       "street                0\n",
       "alley              1911\n",
       "lot_shape             0\n",
       "land_contour          0\n",
       "utilities             0\n",
       "lot_config            0\n",
       "land_slope            0\n",
       "neighborhood          0\n",
       "condition_1           0\n",
       "condition_2           0\n",
       "bldg_type             0\n",
       "house_style           0\n",
       "overall_qual          0\n",
       "overall_cond          0\n",
       "year_built            0\n",
       "year_remod/add        0\n",
       "roof_style            0\n",
       "roof_matl             0\n",
       "exterior_1st          0\n",
       "exterior_2nd          0\n",
       "mas_vnr_type         22\n",
       "mas_vnr_area         22\n",
       "exter_qual            0\n",
       "exter_cond            0\n",
       "foundation            0\n",
       "bsmt_qual            55\n",
       "bsmt_cond            55\n",
       "bsmt_exposure        58\n",
       "bsmtfin_type_1       55\n",
       "bsmtfin_sf_1          1\n",
       "bsmtfin_type_2       56\n",
       "bsmtfin_sf_2          1\n",
       "bsmt_unf_sf           1\n",
       "total_bsmt_sf         1\n",
       "heating               0\n",
       "heating_qc            0\n",
       "central_air           0\n",
       "electrical            0\n",
       "1st_flr_sf            0\n",
       "2nd_flr_sf            0\n",
       "low_qual_fin_sf       0\n",
       "gr_liv_area           0\n",
       "bsmt_full_bath        2\n",
       "bsmt_half_bath        2\n",
       "full_bath             0\n",
       "half_bath             0\n",
       "bedroom_abvgr         0\n",
       "kitchen_abvgr         0\n",
       "kitchen_qual          0\n",
       "totrms_abvgrd         0\n",
       "functional            0\n",
       "fireplaces            0\n",
       "fireplace_qu       1000\n",
       "garage_type         113\n",
       "garage_yr_blt       114\n",
       "garage_finish       114\n",
       "garage_cars           1\n",
       "garage_area           1\n",
       "garage_qual         114\n",
       "garage_cond         114\n",
       "paved_drive           0\n",
       "wood_deck_sf          0\n",
       "open_porch_sf         0\n",
       "enclosed_porch        0\n",
       "3ssn_porch            0\n",
       "screen_porch          0\n",
       "pool_area             0\n",
       "pool_qc            2042\n",
       "fence              1651\n",
       "misc_feature       1986\n",
       "misc_val              0\n",
       "mo_sold               0\n",
       "yr_sold               0\n",
       "sale_type             0\n",
       "saleprice             0\n",
       "dtype: int64"
      ]
     },
     "execution_count": 1633,
     "metadata": {},
     "output_type": "execute_result"
    }
   ],
   "source": [
    "pd.set_option('display.max_rows', None)\n",
    "training.isnull().sum()"
   ]
  },
  {
   "cell_type": "code",
   "execution_count": 1634,
   "id": "94eac0b4",
   "metadata": {},
   "outputs": [
    {
     "data": {
      "text/plain": [
       "id                   0\n",
       "pid                  0\n",
       "ms_subclass          0\n",
       "ms_zoning            0\n",
       "lot_frontage       160\n",
       "lot_area             0\n",
       "street               0\n",
       "alley              820\n",
       "lot_shape            0\n",
       "land_contour         0\n",
       "utilities            0\n",
       "lot_config           0\n",
       "land_slope           0\n",
       "neighborhood         0\n",
       "condition_1          0\n",
       "condition_2          0\n",
       "bldg_type            0\n",
       "house_style          0\n",
       "overall_qual         0\n",
       "overall_cond         0\n",
       "year_built           0\n",
       "year_remod/add       0\n",
       "roof_style           0\n",
       "roof_matl            0\n",
       "exterior_1st         0\n",
       "exterior_2nd         0\n",
       "mas_vnr_type         1\n",
       "mas_vnr_area         1\n",
       "exter_qual           0\n",
       "exter_cond           0\n",
       "foundation           0\n",
       "bsmt_qual           25\n",
       "bsmt_cond           25\n",
       "bsmt_exposure       25\n",
       "bsmtfin_type_1      25\n",
       "bsmtfin_sf_1         0\n",
       "bsmtfin_type_2      25\n",
       "bsmtfin_sf_2         0\n",
       "bsmt_unf_sf          0\n",
       "total_bsmt_sf        0\n",
       "heating              0\n",
       "heating_qc           0\n",
       "central_air          0\n",
       "electrical           1\n",
       "1st_flr_sf           0\n",
       "2nd_flr_sf           0\n",
       "low_qual_fin_sf      0\n",
       "gr_liv_area          0\n",
       "bsmt_full_bath       0\n",
       "bsmt_half_bath       0\n",
       "full_bath            0\n",
       "half_bath            0\n",
       "bedroom_abvgr        0\n",
       "kitchen_abvgr        0\n",
       "kitchen_qual         0\n",
       "totrms_abvgrd        0\n",
       "functional           0\n",
       "fireplaces           0\n",
       "fireplace_qu       422\n",
       "garage_type         44\n",
       "garage_yr_blt       45\n",
       "garage_finish       45\n",
       "garage_cars          0\n",
       "garage_area          0\n",
       "garage_qual         45\n",
       "garage_cond         45\n",
       "paved_drive          0\n",
       "wood_deck_sf         0\n",
       "open_porch_sf        0\n",
       "enclosed_porch       0\n",
       "3ssn_porch           0\n",
       "screen_porch         0\n",
       "pool_area            0\n",
       "pool_qc            874\n",
       "fence              706\n",
       "misc_feature       837\n",
       "misc_val             0\n",
       "mo_sold              0\n",
       "yr_sold              0\n",
       "sale_type            0\n",
       "dtype: int64"
      ]
     },
     "execution_count": 1634,
     "metadata": {},
     "output_type": "execute_result"
    }
   ],
   "source": [
    "submission.isnull().sum()"
   ]
  },
  {
   "cell_type": "code",
   "execution_count": 1635,
   "id": "658c96b8",
   "metadata": {},
   "outputs": [],
   "source": [
    "training['total_bsmt_sf'] = training['total_bsmt_sf'].fillna('0')"
   ]
  },
  {
   "cell_type": "code",
   "execution_count": 1636,
   "id": "3336101e",
   "metadata": {},
   "outputs": [],
   "source": [
    "training['garage_area'] = training['garage_area'].fillna('0')"
   ]
  },
  {
   "cell_type": "code",
   "execution_count": 1637,
   "id": "492594da",
   "metadata": {
    "scrolled": true
   },
   "outputs": [],
   "source": [
    "training['garage_cars'] = training['garage_cars'].fillna('0')"
   ]
  },
  {
   "cell_type": "markdown",
   "id": "bad9a4ae",
   "metadata": {},
   "source": [
    "Since there is a missing value in both 'total_bsmt_sf' and 'garage_area', I will substitute the missing value with 0."
   ]
  },
  {
   "cell_type": "markdown",
   "id": "b51865f5",
   "metadata": {},
   "source": [
    "Now it is time to drop columns that I think it'll be unnecessary for this project."
   ]
  },
  {
   "cell_type": "code",
   "execution_count": 1638,
   "id": "62ea9d9f",
   "metadata": {},
   "outputs": [],
   "source": [
    "training = training[['id', 'lot_area', '1st_flr_sf', '2nd_flr_sf', 'full_bath', 'garage_cars',\n",
    "            'half_bath', 'pool_area', 'total_bsmt_sf', 'garage_area', 'overall_qual', 'overall_cond', 'saleprice']]"
   ]
  },
  {
   "cell_type": "code",
   "execution_count": 1639,
   "id": "065f940b",
   "metadata": {},
   "outputs": [],
   "source": [
    "submission = submission[['id', 'lot_area', '1st_flr_sf', '2nd_flr_sf', 'full_bath', 'garage_cars',\n",
    "            'half_bath', 'pool_area', 'total_bsmt_sf', 'garage_area', 'overall_qual', 'overall_cond']]"
   ]
  },
  {
   "cell_type": "code",
   "execution_count": 1640,
   "id": "086b83e5",
   "metadata": {},
   "outputs": [],
   "source": [
    "submission_poly = submission_poly[['id', 'lot_area', '1st_flr_sf', '2nd_flr_sf', 'full_bath', 'garage_cars',\n",
    "            'half_bath', 'pool_area', 'total_bsmt_sf', 'garage_area', 'overall_qual', 'overall_cond']]"
   ]
  },
  {
   "cell_type": "code",
   "execution_count": 1641,
   "id": "2d78e7b2",
   "metadata": {},
   "outputs": [],
   "source": [
    "submission_lasso = submission_poly[['id', 'lot_area', '1st_flr_sf', '2nd_flr_sf', 'full_bath', 'garage_cars',\n",
    "            'half_bath', 'pool_area', 'total_bsmt_sf', 'garage_area', 'overall_qual', 'overall_cond']]"
   ]
  },
  {
   "cell_type": "code",
   "execution_count": 1642,
   "id": "43ef90ca",
   "metadata": {},
   "outputs": [],
   "source": [
    "submission_knn = submission_knn[['id', 'lot_area', '1st_flr_sf', '2nd_flr_sf', 'full_bath', 'garage_cars',\n",
    "            'half_bath', 'pool_area', 'total_bsmt_sf', 'garage_area', 'overall_qual', 'overall_cond']]"
   ]
  },
  {
   "cell_type": "code",
   "execution_count": 1643,
   "id": "1625a65f",
   "metadata": {},
   "outputs": [],
   "source": [
    "submission_ridge = submission_ridge[['id', 'lot_area', '1st_flr_sf', '2nd_flr_sf', 'full_bath', 'garage_cars',\n",
    "            'half_bath', 'pool_area', 'total_bsmt_sf', 'garage_area', 'overall_qual', 'overall_cond']]"
   ]
  },
  {
   "cell_type": "markdown",
   "id": "fa613e2f",
   "metadata": {},
   "source": [
    "# Modeling"
   ]
  },
  {
   "cell_type": "markdown",
   "id": "6578b587",
   "metadata": {},
   "source": [
    "Just a regular Linear Regression model."
   ]
  },
  {
   "cell_type": "code",
   "execution_count": 1644,
   "id": "5505f0d1",
   "metadata": {},
   "outputs": [],
   "source": [
    "features = ['lot_area', '1st_flr_sf', '2nd_flr_sf', 'full_bath', 'overall_cond', 'garage_cars',\n",
    "            'half_bath', 'pool_area', 'total_bsmt_sf', 'garage_area', 'overall_qual']\n",
    "\n",
    "X = training[features]\n",
    "y = training['saleprice']"
   ]
  },
  {
   "cell_type": "code",
   "execution_count": 1645,
   "id": "82806788",
   "metadata": {},
   "outputs": [],
   "source": [
    "X_train, X_test, y_train, y_test = train_test_split(X, y, random_state = 42)"
   ]
  },
  {
   "cell_type": "code",
   "execution_count": 1646,
   "id": "87d7fc9c",
   "metadata": {
    "scrolled": true
   },
   "outputs": [
    {
     "data": {
      "text/plain": [
       "(0.772141762957042, 0.8283192649752682)"
      ]
     },
     "execution_count": 1646,
     "metadata": {},
     "output_type": "execute_result"
    }
   ],
   "source": [
    "lr = LinearRegression()\n",
    "lr.fit(X_train, y_train)\n",
    "lr.score(X_train, y_train), lr.score(X_test, y_test)"
   ]
  },
  {
   "cell_type": "code",
   "execution_count": 1647,
   "id": "78b4a197",
   "metadata": {},
   "outputs": [],
   "source": [
    "coef_lr = lr.coef_"
   ]
  },
  {
   "cell_type": "code",
   "execution_count": 1648,
   "id": "9a21647a",
   "metadata": {},
   "outputs": [],
   "source": [
    "preds_lr = lr.predict(submission[features])"
   ]
  },
  {
   "cell_type": "code",
   "execution_count": 1649,
   "id": "c7b4ce0e",
   "metadata": {},
   "outputs": [],
   "source": [
    "submission['saleprice'] = preds_lr"
   ]
  },
  {
   "cell_type": "code",
   "execution_count": 1650,
   "id": "42c5d04b",
   "metadata": {},
   "outputs": [],
   "source": [
    "test_final = submission[['id', 'saleprice']]"
   ]
  },
  {
   "cell_type": "code",
   "execution_count": 1651,
   "id": "3eb57652",
   "metadata": {},
   "outputs": [],
   "source": [
    "test_final.to_csv('datasets/test_mlr.csv', index = False)"
   ]
  },
  {
   "cell_type": "code",
   "execution_count": 1652,
   "id": "38a3df9e",
   "metadata": {},
   "outputs": [
    {
     "data": {
      "text/html": [
       "<div>\n",
       "<style scoped>\n",
       "    .dataframe tbody tr th:only-of-type {\n",
       "        vertical-align: middle;\n",
       "    }\n",
       "\n",
       "    .dataframe tbody tr th {\n",
       "        vertical-align: top;\n",
       "    }\n",
       "\n",
       "    .dataframe thead th {\n",
       "        text-align: right;\n",
       "    }\n",
       "</style>\n",
       "<table border=\"1\" class=\"dataframe\">\n",
       "  <thead>\n",
       "    <tr style=\"text-align: right;\">\n",
       "      <th></th>\n",
       "      <th>id</th>\n",
       "      <th>saleprice</th>\n",
       "    </tr>\n",
       "  </thead>\n",
       "  <tbody>\n",
       "    <tr>\n",
       "      <th>0</th>\n",
       "      <td>2658</td>\n",
       "      <td>183700.612429</td>\n",
       "    </tr>\n",
       "    <tr>\n",
       "      <th>1</th>\n",
       "      <td>2718</td>\n",
       "      <td>199299.931124</td>\n",
       "    </tr>\n",
       "    <tr>\n",
       "      <th>2</th>\n",
       "      <td>2414</td>\n",
       "      <td>203795.330766</td>\n",
       "    </tr>\n",
       "    <tr>\n",
       "      <th>3</th>\n",
       "      <td>1989</td>\n",
       "      <td>128504.665956</td>\n",
       "    </tr>\n",
       "    <tr>\n",
       "      <th>4</th>\n",
       "      <td>625</td>\n",
       "      <td>188477.193844</td>\n",
       "    </tr>\n",
       "  </tbody>\n",
       "</table>\n",
       "</div>"
      ],
      "text/plain": [
       "     id      saleprice\n",
       "0  2658  183700.612429\n",
       "1  2718  199299.931124\n",
       "2  2414  203795.330766\n",
       "3  1989  128504.665956\n",
       "4   625  188477.193844"
      ]
     },
     "execution_count": 1652,
     "metadata": {},
     "output_type": "execute_result"
    }
   ],
   "source": [
    "test_final.head()"
   ]
  },
  {
   "cell_type": "markdown",
   "id": "e2a41620",
   "metadata": {},
   "source": [
    "# Polynomial Features\n",
    "Here, we will test out different features."
   ]
  },
  {
   "cell_type": "code",
   "execution_count": 1653,
   "id": "ce15550d",
   "metadata": {},
   "outputs": [],
   "source": [
    "features = ['lot_area', '1st_flr_sf', '2nd_flr_sf', 'full_bath', 'overall_cond', 'garage_cars',\n",
    "            'half_bath', 'pool_area', 'total_bsmt_sf', 'garage_area', 'overall_qual']\n",
    "\n",
    "X = training[features]\n",
    "y = training['saleprice']"
   ]
  },
  {
   "cell_type": "code",
   "execution_count": 1654,
   "id": "889739cf",
   "metadata": {},
   "outputs": [],
   "source": [
    "X_train, X_test, y_train, y_test = train_test_split(X, y, random_state = 42)"
   ]
  },
  {
   "cell_type": "code",
   "execution_count": 1655,
   "id": "b7302b01",
   "metadata": {},
   "outputs": [],
   "source": [
    "poly = PolynomialFeatures(include_bias=False)\n",
    "poly.fit(X_train, y_train)\n",
    "poly_train = poly.transform(X_train)\n",
    "poly_test = poly.transform(X_test)\n",
    "poly_submission = poly.transform(submission_poly[features])\n",
    "X_poly = poly.transform(X)"
   ]
  },
  {
   "cell_type": "code",
   "execution_count": 1656,
   "id": "96eb030d",
   "metadata": {},
   "outputs": [
    {
     "data": {
      "text/plain": [
       "0.7987500524116706"
      ]
     },
     "execution_count": 1656,
     "metadata": {},
     "output_type": "execute_result"
    }
   ],
   "source": [
    "cross_val_score(lr, X_poly, y).mean()"
   ]
  },
  {
   "cell_type": "code",
   "execution_count": 1657,
   "id": "8146091b",
   "metadata": {},
   "outputs": [],
   "source": [
    "sc = StandardScaler()\n",
    "sc.fit(poly_train)\n",
    "Z_train = sc.transform(poly_train)\n",
    "Z_test = sc.transform(poly_test)\n",
    "Z_submission = sc.transform(poly_submission)"
   ]
  },
  {
   "cell_type": "code",
   "execution_count": 1658,
   "id": "ed99119b",
   "metadata": {},
   "outputs": [
    {
     "data": {
      "text/plain": [
       "LinearRegression()"
      ]
     },
     "execution_count": 1658,
     "metadata": {},
     "output_type": "execute_result"
    }
   ],
   "source": [
    "ols = LinearRegression()\n",
    "ols.fit(Z_train, y_train)"
   ]
  },
  {
   "cell_type": "code",
   "execution_count": 1659,
   "id": "f7b7d30c",
   "metadata": {},
   "outputs": [
    {
     "data": {
      "text/plain": [
       "(0.8886397004005167, 0.7806061575410087)"
      ]
     },
     "execution_count": 1659,
     "metadata": {},
     "output_type": "execute_result"
    }
   ],
   "source": [
    "ols.score(Z_train, y_train), ols.score(Z_test, y_test)"
   ]
  },
  {
   "cell_type": "code",
   "execution_count": 1660,
   "id": "49789f47",
   "metadata": {},
   "outputs": [],
   "source": [
    "from sklearn.linear_model import RidgeCV"
   ]
  },
  {
   "cell_type": "code",
   "execution_count": 1661,
   "id": "70e957f0",
   "metadata": {},
   "outputs": [],
   "source": [
    "alphas = np.logspace(-1, 3)\n",
    "ridge_cv = RidgeCV(alphas=alphas, cv=5)\n",
    "ridge_cv.fit(Z_train, y_train);"
   ]
  },
  {
   "cell_type": "code",
   "execution_count": 1662,
   "id": "8b1c94e8",
   "metadata": {},
   "outputs": [
    {
     "data": {
      "text/plain": [
       "49.417133613238335"
      ]
     },
     "execution_count": 1662,
     "metadata": {},
     "output_type": "execute_result"
    }
   ],
   "source": [
    "ridge_cv.alpha_"
   ]
  },
  {
   "cell_type": "code",
   "execution_count": 1663,
   "id": "a2f2d41b",
   "metadata": {
    "scrolled": true
   },
   "outputs": [
    {
     "data": {
      "text/plain": [
       "0.8114434102237509"
      ]
     },
     "execution_count": 1663,
     "metadata": {},
     "output_type": "execute_result"
    }
   ],
   "source": [
    "ridge_cv.best_score_"
   ]
  },
  {
   "cell_type": "code",
   "execution_count": 1664,
   "id": "c37115e2",
   "metadata": {
    "scrolled": true
   },
   "outputs": [
    {
     "data": {
      "text/plain": [
       "(0.870734849892862, 0.863122785254128)"
      ]
     },
     "execution_count": 1664,
     "metadata": {},
     "output_type": "execute_result"
    }
   ],
   "source": [
    "ridge_cv.score(Z_train, y_train), ridge_cv.score(Z_test, y_test)"
   ]
  },
  {
   "cell_type": "code",
   "execution_count": 1665,
   "id": "8e30d83e",
   "metadata": {},
   "outputs": [],
   "source": [
    "predicts_ridge = ridge_cv.predict(Z_submission)"
   ]
  },
  {
   "cell_type": "code",
   "execution_count": 1666,
   "id": "df8faf40",
   "metadata": {},
   "outputs": [],
   "source": [
    "submission_ridge['saleprice'] = predicts_ridge"
   ]
  },
  {
   "cell_type": "code",
   "execution_count": 1667,
   "id": "09688a61",
   "metadata": {},
   "outputs": [],
   "source": [
    "ridge_final = submission_ridge[['id', 'saleprice']]"
   ]
  },
  {
   "cell_type": "code",
   "execution_count": 1668,
   "id": "f00f9a96",
   "metadata": {},
   "outputs": [],
   "source": [
    "ridge_final= ridge_final.sort_values('id')"
   ]
  },
  {
   "cell_type": "code",
   "execution_count": 1669,
   "id": "94c6ec9c",
   "metadata": {},
   "outputs": [],
   "source": [
    "ridge_final.to_csv('datasets/ridge_test.csv', index = False)"
   ]
  },
  {
   "cell_type": "code",
   "execution_count": 1670,
   "id": "b6532909",
   "metadata": {},
   "outputs": [
    {
     "data": {
      "text/html": [
       "<div>\n",
       "<style scoped>\n",
       "    .dataframe tbody tr th:only-of-type {\n",
       "        vertical-align: middle;\n",
       "    }\n",
       "\n",
       "    .dataframe tbody tr th {\n",
       "        vertical-align: top;\n",
       "    }\n",
       "\n",
       "    .dataframe thead th {\n",
       "        text-align: right;\n",
       "    }\n",
       "</style>\n",
       "<table border=\"1\" class=\"dataframe\">\n",
       "  <thead>\n",
       "    <tr style=\"text-align: right;\">\n",
       "      <th></th>\n",
       "      <th>id</th>\n",
       "      <th>saleprice</th>\n",
       "    </tr>\n",
       "  </thead>\n",
       "  <tbody>\n",
       "    <tr>\n",
       "      <th>703</th>\n",
       "      <td>2</td>\n",
       "      <td>126182.006464</td>\n",
       "    </tr>\n",
       "    <tr>\n",
       "      <th>705</th>\n",
       "      <td>4</td>\n",
       "      <td>274301.030740</td>\n",
       "    </tr>\n",
       "    <tr>\n",
       "      <th>119</th>\n",
       "      <td>6</td>\n",
       "      <td>182873.618081</td>\n",
       "    </tr>\n",
       "    <tr>\n",
       "      <th>311</th>\n",
       "      <td>7</td>\n",
       "      <td>222649.800127</td>\n",
       "    </tr>\n",
       "    <tr>\n",
       "      <th>400</th>\n",
       "      <td>17</td>\n",
       "      <td>207912.941924</td>\n",
       "    </tr>\n",
       "  </tbody>\n",
       "</table>\n",
       "</div>"
      ],
      "text/plain": [
       "     id      saleprice\n",
       "703   2  126182.006464\n",
       "705   4  274301.030740\n",
       "119   6  182873.618081\n",
       "311   7  222649.800127\n",
       "400  17  207912.941924"
      ]
     },
     "execution_count": 1670,
     "metadata": {},
     "output_type": "execute_result"
    }
   ],
   "source": [
    "ridge_final.head()"
   ]
  },
  {
   "cell_type": "code",
   "execution_count": 1671,
   "id": "40d45640",
   "metadata": {},
   "outputs": [],
   "source": [
    "from sklearn.linear_model import Lasso, LassoCV"
   ]
  },
  {
   "cell_type": "code",
   "execution_count": 1672,
   "id": "c13ab2d3",
   "metadata": {},
   "outputs": [
    {
     "name": "stderr",
     "output_type": "stream",
     "text": [
      "/Users/kyoungbari/opt/anaconda3/lib/python3.8/site-packages/sklearn/linear_model/_coordinate_descent.py:526: ConvergenceWarning: Objective did not converge. You might want to increase the number of iterations. Duality gap: 1997657778.5749512, tolerance: 778133067.1215106\n",
      "  model = cd_fast.enet_coordinate_descent_gram(\n",
      "/Users/kyoungbari/opt/anaconda3/lib/python3.8/site-packages/sklearn/linear_model/_coordinate_descent.py:526: ConvergenceWarning: Objective did not converge. You might want to increase the number of iterations. Duality gap: 4556104875.517334, tolerance: 778133067.1215106\n",
      "  model = cd_fast.enet_coordinate_descent_gram(\n",
      "/Users/kyoungbari/opt/anaconda3/lib/python3.8/site-packages/sklearn/linear_model/_coordinate_descent.py:526: ConvergenceWarning: Objective did not converge. You might want to increase the number of iterations. Duality gap: 13388593861.277344, tolerance: 778133067.1215106\n",
      "  model = cd_fast.enet_coordinate_descent_gram(\n",
      "/Users/kyoungbari/opt/anaconda3/lib/python3.8/site-packages/sklearn/linear_model/_coordinate_descent.py:526: ConvergenceWarning: Objective did not converge. You might want to increase the number of iterations. Duality gap: 32796934038.205933, tolerance: 778133067.1215106\n",
      "  model = cd_fast.enet_coordinate_descent_gram(\n",
      "/Users/kyoungbari/opt/anaconda3/lib/python3.8/site-packages/sklearn/linear_model/_coordinate_descent.py:526: ConvergenceWarning: Objective did not converge. You might want to increase the number of iterations. Duality gap: 35337139759.7561, tolerance: 778133067.1215106\n",
      "  model = cd_fast.enet_coordinate_descent_gram(\n",
      "/Users/kyoungbari/opt/anaconda3/lib/python3.8/site-packages/sklearn/linear_model/_coordinate_descent.py:526: ConvergenceWarning: Objective did not converge. You might want to increase the number of iterations. Duality gap: 37009811370.12427, tolerance: 778133067.1215106\n",
      "  model = cd_fast.enet_coordinate_descent_gram(\n",
      "/Users/kyoungbari/opt/anaconda3/lib/python3.8/site-packages/sklearn/linear_model/_coordinate_descent.py:526: ConvergenceWarning: Objective did not converge. You might want to increase the number of iterations. Duality gap: 31316133541.277466, tolerance: 778133067.1215106\n",
      "  model = cd_fast.enet_coordinate_descent_gram(\n",
      "/Users/kyoungbari/opt/anaconda3/lib/python3.8/site-packages/sklearn/linear_model/_coordinate_descent.py:526: ConvergenceWarning: Objective did not converge. You might want to increase the number of iterations. Duality gap: 27769356864.478516, tolerance: 778133067.1215106\n",
      "  model = cd_fast.enet_coordinate_descent_gram(\n",
      "/Users/kyoungbari/opt/anaconda3/lib/python3.8/site-packages/sklearn/linear_model/_coordinate_descent.py:526: ConvergenceWarning: Objective did not converge. You might want to increase the number of iterations. Duality gap: 28536933633.423462, tolerance: 778133067.1215106\n",
      "  model = cd_fast.enet_coordinate_descent_gram(\n",
      "/Users/kyoungbari/opt/anaconda3/lib/python3.8/site-packages/sklearn/linear_model/_coordinate_descent.py:526: ConvergenceWarning: Objective did not converge. You might want to increase the number of iterations. Duality gap: 35260239688.71582, tolerance: 778133067.1215106\n",
      "  model = cd_fast.enet_coordinate_descent_gram(\n",
      "/Users/kyoungbari/opt/anaconda3/lib/python3.8/site-packages/sklearn/linear_model/_coordinate_descent.py:526: ConvergenceWarning: Objective did not converge. You might want to increase the number of iterations. Duality gap: 45354760747.912476, tolerance: 778133067.1215106\n",
      "  model = cd_fast.enet_coordinate_descent_gram(\n",
      "/Users/kyoungbari/opt/anaconda3/lib/python3.8/site-packages/sklearn/linear_model/_coordinate_descent.py:526: ConvergenceWarning: Objective did not converge. You might want to increase the number of iterations. Duality gap: 45940352130.787964, tolerance: 778133067.1215106\n",
      "  model = cd_fast.enet_coordinate_descent_gram(\n",
      "/Users/kyoungbari/opt/anaconda3/lib/python3.8/site-packages/sklearn/linear_model/_coordinate_descent.py:526: ConvergenceWarning: Objective did not converge. You might want to increase the number of iterations. Duality gap: 34105975925.294067, tolerance: 778133067.1215106\n",
      "  model = cd_fast.enet_coordinate_descent_gram(\n",
      "/Users/kyoungbari/opt/anaconda3/lib/python3.8/site-packages/sklearn/linear_model/_coordinate_descent.py:526: ConvergenceWarning: Objective did not converge. You might want to increase the number of iterations. Duality gap: 31763796434.576904, tolerance: 778133067.1215106\n",
      "  model = cd_fast.enet_coordinate_descent_gram(\n",
      "/Users/kyoungbari/opt/anaconda3/lib/python3.8/site-packages/sklearn/linear_model/_coordinate_descent.py:526: ConvergenceWarning: Objective did not converge. You might want to increase the number of iterations. Duality gap: 1937330703.803955, tolerance: 803375304.0487227\n",
      "  model = cd_fast.enet_coordinate_descent_gram(\n",
      "/Users/kyoungbari/opt/anaconda3/lib/python3.8/site-packages/sklearn/linear_model/_coordinate_descent.py:526: ConvergenceWarning: Objective did not converge. You might want to increase the number of iterations. Duality gap: 1525513047.505371, tolerance: 803375304.0487227\n",
      "  model = cd_fast.enet_coordinate_descent_gram(\n",
      "/Users/kyoungbari/opt/anaconda3/lib/python3.8/site-packages/sklearn/linear_model/_coordinate_descent.py:526: ConvergenceWarning: Objective did not converge. You might want to increase the number of iterations. Duality gap: 10392173726.273315, tolerance: 803375304.0487227\n",
      "  model = cd_fast.enet_coordinate_descent_gram(\n",
      "/Users/kyoungbari/opt/anaconda3/lib/python3.8/site-packages/sklearn/linear_model/_coordinate_descent.py:526: ConvergenceWarning: Objective did not converge. You might want to increase the number of iterations. Duality gap: 17283321495.611572, tolerance: 803375304.0487227\n",
      "  model = cd_fast.enet_coordinate_descent_gram(\n",
      "/Users/kyoungbari/opt/anaconda3/lib/python3.8/site-packages/sklearn/linear_model/_coordinate_descent.py:526: ConvergenceWarning: Objective did not converge. You might want to increase the number of iterations. Duality gap: 7930200044.242676, tolerance: 803375304.0487227\n",
      "  model = cd_fast.enet_coordinate_descent_gram(\n",
      "/Users/kyoungbari/opt/anaconda3/lib/python3.8/site-packages/sklearn/linear_model/_coordinate_descent.py:526: ConvergenceWarning: Objective did not converge. You might want to increase the number of iterations. Duality gap: 29802450661.43042, tolerance: 803375304.0487227\n",
      "  model = cd_fast.enet_coordinate_descent_gram(\n",
      "/Users/kyoungbari/opt/anaconda3/lib/python3.8/site-packages/sklearn/linear_model/_coordinate_descent.py:526: ConvergenceWarning: Objective did not converge. You might want to increase the number of iterations. Duality gap: 40608388744.68152, tolerance: 803375304.0487227\n",
      "  model = cd_fast.enet_coordinate_descent_gram(\n",
      "/Users/kyoungbari/opt/anaconda3/lib/python3.8/site-packages/sklearn/linear_model/_coordinate_descent.py:526: ConvergenceWarning: Objective did not converge. You might want to increase the number of iterations. Duality gap: 77398504612.5553, tolerance: 803375304.0487227\n",
      "  model = cd_fast.enet_coordinate_descent_gram(\n",
      "/Users/kyoungbari/opt/anaconda3/lib/python3.8/site-packages/sklearn/linear_model/_coordinate_descent.py:526: ConvergenceWarning: Objective did not converge. You might want to increase the number of iterations. Duality gap: 101396900704.20605, tolerance: 803375304.0487227\n",
      "  model = cd_fast.enet_coordinate_descent_gram(\n",
      "/Users/kyoungbari/opt/anaconda3/lib/python3.8/site-packages/sklearn/linear_model/_coordinate_descent.py:526: ConvergenceWarning: Objective did not converge. You might want to increase the number of iterations. Duality gap: 101559687108.72552, tolerance: 803375304.0487227\n",
      "  model = cd_fast.enet_coordinate_descent_gram(\n",
      "/Users/kyoungbari/opt/anaconda3/lib/python3.8/site-packages/sklearn/linear_model/_coordinate_descent.py:526: ConvergenceWarning: Objective did not converge. You might want to increase the number of iterations. Duality gap: 109833508827.95557, tolerance: 803375304.0487227\n",
      "  model = cd_fast.enet_coordinate_descent_gram(\n",
      "/Users/kyoungbari/opt/anaconda3/lib/python3.8/site-packages/sklearn/linear_model/_coordinate_descent.py:526: ConvergenceWarning: Objective did not converge. You might want to increase the number of iterations. Duality gap: 88727311112.44098, tolerance: 803375304.0487227\n",
      "  model = cd_fast.enet_coordinate_descent_gram(\n",
      "/Users/kyoungbari/opt/anaconda3/lib/python3.8/site-packages/sklearn/linear_model/_coordinate_descent.py:526: ConvergenceWarning: Objective did not converge. You might want to increase the number of iterations. Duality gap: 30683559745.093506, tolerance: 803375304.0487227\n",
      "  model = cd_fast.enet_coordinate_descent_gram(\n",
      "/Users/kyoungbari/opt/anaconda3/lib/python3.8/site-packages/sklearn/linear_model/_coordinate_descent.py:526: ConvergenceWarning: Objective did not converge. You might want to increase the number of iterations. Duality gap: 35563568494.1001, tolerance: 803375304.0487227\n",
      "  model = cd_fast.enet_coordinate_descent_gram(\n",
      "/Users/kyoungbari/opt/anaconda3/lib/python3.8/site-packages/sklearn/linear_model/_coordinate_descent.py:526: ConvergenceWarning: Objective did not converge. You might want to increase the number of iterations. Duality gap: 56794499028.97241, tolerance: 803375304.0487227\n",
      "  model = cd_fast.enet_coordinate_descent_gram(\n",
      "/Users/kyoungbari/opt/anaconda3/lib/python3.8/site-packages/sklearn/linear_model/_coordinate_descent.py:526: ConvergenceWarning: Objective did not converge. You might want to increase the number of iterations. Duality gap: 1594539036.928955, tolerance: 760708549.4053607\n",
      "  model = cd_fast.enet_coordinate_descent_gram(\n",
      "/Users/kyoungbari/opt/anaconda3/lib/python3.8/site-packages/sklearn/linear_model/_coordinate_descent.py:526: ConvergenceWarning: Objective did not converge. You might want to increase the number of iterations. Duality gap: 1335823251.7316895, tolerance: 760708549.4053607\n",
      "  model = cd_fast.enet_coordinate_descent_gram(\n",
      "/Users/kyoungbari/opt/anaconda3/lib/python3.8/site-packages/sklearn/linear_model/_coordinate_descent.py:526: ConvergenceWarning: Objective did not converge. You might want to increase the number of iterations. Duality gap: 5181589627.692505, tolerance: 760708549.4053607\n",
      "  model = cd_fast.enet_coordinate_descent_gram(\n",
      "/Users/kyoungbari/opt/anaconda3/lib/python3.8/site-packages/sklearn/linear_model/_coordinate_descent.py:526: ConvergenceWarning: Objective did not converge. You might want to increase the number of iterations. Duality gap: 8383804822.786255, tolerance: 760708549.4053607\n",
      "  model = cd_fast.enet_coordinate_descent_gram(\n",
      "/Users/kyoungbari/opt/anaconda3/lib/python3.8/site-packages/sklearn/linear_model/_coordinate_descent.py:526: ConvergenceWarning: Objective did not converge. You might want to increase the number of iterations. Duality gap: 21857076393.331543, tolerance: 760708549.4053607\n",
      "  model = cd_fast.enet_coordinate_descent_gram(\n",
      "/Users/kyoungbari/opt/anaconda3/lib/python3.8/site-packages/sklearn/linear_model/_coordinate_descent.py:526: ConvergenceWarning: Objective did not converge. You might want to increase the number of iterations. Duality gap: 34679717583.98718, tolerance: 760708549.4053607\n",
      "  model = cd_fast.enet_coordinate_descent_gram(\n",
      "/Users/kyoungbari/opt/anaconda3/lib/python3.8/site-packages/sklearn/linear_model/_coordinate_descent.py:526: ConvergenceWarning: Objective did not converge. You might want to increase the number of iterations. Duality gap: 38732485741.03711, tolerance: 760708549.4053607\n",
      "  model = cd_fast.enet_coordinate_descent_gram(\n",
      "/Users/kyoungbari/opt/anaconda3/lib/python3.8/site-packages/sklearn/linear_model/_coordinate_descent.py:526: ConvergenceWarning: Objective did not converge. You might want to increase the number of iterations. Duality gap: 38978853018.60889, tolerance: 760708549.4053607\n",
      "  model = cd_fast.enet_coordinate_descent_gram(\n",
      "/Users/kyoungbari/opt/anaconda3/lib/python3.8/site-packages/sklearn/linear_model/_coordinate_descent.py:526: ConvergenceWarning: Objective did not converge. You might want to increase the number of iterations. Duality gap: 42230126744.14038, tolerance: 760708549.4053607\n",
      "  model = cd_fast.enet_coordinate_descent_gram(\n",
      "/Users/kyoungbari/opt/anaconda3/lib/python3.8/site-packages/sklearn/linear_model/_coordinate_descent.py:526: ConvergenceWarning: Objective did not converge. You might want to increase the number of iterations. Duality gap: 52355726744.7041, tolerance: 760708549.4053607\n",
      "  model = cd_fast.enet_coordinate_descent_gram(\n",
      "/Users/kyoungbari/opt/anaconda3/lib/python3.8/site-packages/sklearn/linear_model/_coordinate_descent.py:526: ConvergenceWarning: Objective did not converge. You might want to increase the number of iterations. Duality gap: 82417866764.32397, tolerance: 760708549.4053607\n",
      "  model = cd_fast.enet_coordinate_descent_gram(\n",
      "/Users/kyoungbari/opt/anaconda3/lib/python3.8/site-packages/sklearn/linear_model/_coordinate_descent.py:526: ConvergenceWarning: Objective did not converge. You might want to increase the number of iterations. Duality gap: 113691434456.47205, tolerance: 760708549.4053607\n",
      "  model = cd_fast.enet_coordinate_descent_gram(\n",
      "/Users/kyoungbari/opt/anaconda3/lib/python3.8/site-packages/sklearn/linear_model/_coordinate_descent.py:526: ConvergenceWarning: Objective did not converge. You might want to increase the number of iterations. Duality gap: 127092335420.10315, tolerance: 760708549.4053607\n",
      "  model = cd_fast.enet_coordinate_descent_gram(\n",
      "/Users/kyoungbari/opt/anaconda3/lib/python3.8/site-packages/sklearn/linear_model/_coordinate_descent.py:526: ConvergenceWarning: Objective did not converge. You might want to increase the number of iterations. Duality gap: 162623682843.9735, tolerance: 760708549.4053607\n",
      "  model = cd_fast.enet_coordinate_descent_gram(\n",
      "/Users/kyoungbari/opt/anaconda3/lib/python3.8/site-packages/sklearn/linear_model/_coordinate_descent.py:526: ConvergenceWarning: Objective did not converge. You might want to increase the number of iterations. Duality gap: 199609745021.3025, tolerance: 760708549.4053607\n",
      "  model = cd_fast.enet_coordinate_descent_gram(\n"
     ]
    },
    {
     "name": "stderr",
     "output_type": "stream",
     "text": [
      "/Users/kyoungbari/opt/anaconda3/lib/python3.8/site-packages/sklearn/linear_model/_coordinate_descent.py:526: ConvergenceWarning: Objective did not converge. You might want to increase the number of iterations. Duality gap: 220129189928.96027, tolerance: 760708549.4053607\n",
      "  model = cd_fast.enet_coordinate_descent_gram(\n",
      "/Users/kyoungbari/opt/anaconda3/lib/python3.8/site-packages/sklearn/linear_model/_coordinate_descent.py:526: ConvergenceWarning: Objective did not converge. You might want to increase the number of iterations. Duality gap: 1186601246.817627, tolerance: 731633840.9885501\n",
      "  model = cd_fast.enet_coordinate_descent_gram(\n",
      "/Users/kyoungbari/opt/anaconda3/lib/python3.8/site-packages/sklearn/linear_model/_coordinate_descent.py:526: ConvergenceWarning: Objective did not converge. You might want to increase the number of iterations. Duality gap: 8067118880.931885, tolerance: 731633840.9885501\n",
      "  model = cd_fast.enet_coordinate_descent_gram(\n",
      "/Users/kyoungbari/opt/anaconda3/lib/python3.8/site-packages/sklearn/linear_model/_coordinate_descent.py:526: ConvergenceWarning: Objective did not converge. You might want to increase the number of iterations. Duality gap: 10819632345.54419, tolerance: 731633840.9885501\n",
      "  model = cd_fast.enet_coordinate_descent_gram(\n",
      "/Users/kyoungbari/opt/anaconda3/lib/python3.8/site-packages/sklearn/linear_model/_coordinate_descent.py:526: ConvergenceWarning: Objective did not converge. You might want to increase the number of iterations. Duality gap: 10615472591.132568, tolerance: 731633840.9885501\n",
      "  model = cd_fast.enet_coordinate_descent_gram(\n",
      "/Users/kyoungbari/opt/anaconda3/lib/python3.8/site-packages/sklearn/linear_model/_coordinate_descent.py:526: ConvergenceWarning: Objective did not converge. You might want to increase the number of iterations. Duality gap: 10457967497.65039, tolerance: 731633840.9885501\n",
      "  model = cd_fast.enet_coordinate_descent_gram(\n",
      "/Users/kyoungbari/opt/anaconda3/lib/python3.8/site-packages/sklearn/linear_model/_coordinate_descent.py:526: ConvergenceWarning: Objective did not converge. You might want to increase the number of iterations. Duality gap: 11320823893.17456, tolerance: 731633840.9885501\n",
      "  model = cd_fast.enet_coordinate_descent_gram(\n",
      "/Users/kyoungbari/opt/anaconda3/lib/python3.8/site-packages/sklearn/linear_model/_coordinate_descent.py:526: ConvergenceWarning: Objective did not converge. You might want to increase the number of iterations. Duality gap: 24010599330.259277, tolerance: 731633840.9885501\n",
      "  model = cd_fast.enet_coordinate_descent_gram(\n",
      "/Users/kyoungbari/opt/anaconda3/lib/python3.8/site-packages/sklearn/linear_model/_coordinate_descent.py:526: ConvergenceWarning: Objective did not converge. You might want to increase the number of iterations. Duality gap: 49927120262.7663, tolerance: 731633840.9885501\n",
      "  model = cd_fast.enet_coordinate_descent_gram(\n",
      "/Users/kyoungbari/opt/anaconda3/lib/python3.8/site-packages/sklearn/linear_model/_coordinate_descent.py:526: ConvergenceWarning: Objective did not converge. You might want to increase the number of iterations. Duality gap: 78968392909.08899, tolerance: 731633840.9885501\n",
      "  model = cd_fast.enet_coordinate_descent_gram(\n",
      "/Users/kyoungbari/opt/anaconda3/lib/python3.8/site-packages/sklearn/linear_model/_coordinate_descent.py:526: ConvergenceWarning: Objective did not converge. You might want to increase the number of iterations. Duality gap: 97724546803.70563, tolerance: 731633840.9885501\n",
      "  model = cd_fast.enet_coordinate_descent_gram(\n",
      "/Users/kyoungbari/opt/anaconda3/lib/python3.8/site-packages/sklearn/linear_model/_coordinate_descent.py:526: ConvergenceWarning: Objective did not converge. You might want to increase the number of iterations. Duality gap: 102399626319.42249, tolerance: 731633840.9885501\n",
      "  model = cd_fast.enet_coordinate_descent_gram(\n",
      "/Users/kyoungbari/opt/anaconda3/lib/python3.8/site-packages/sklearn/linear_model/_coordinate_descent.py:526: ConvergenceWarning: Objective did not converge. You might want to increase the number of iterations. Duality gap: 90250243528.00098, tolerance: 731633840.9885501\n",
      "  model = cd_fast.enet_coordinate_descent_gram(\n",
      "/Users/kyoungbari/opt/anaconda3/lib/python3.8/site-packages/sklearn/linear_model/_coordinate_descent.py:526: ConvergenceWarning: Objective did not converge. You might want to increase the number of iterations. Duality gap: 6017299513.815918, tolerance: 816865125.5190994\n",
      "  model = cd_fast.enet_coordinate_descent_gram(\n",
      "/Users/kyoungbari/opt/anaconda3/lib/python3.8/site-packages/sklearn/linear_model/_coordinate_descent.py:526: ConvergenceWarning: Objective did not converge. You might want to increase the number of iterations. Duality gap: 13648678894.56128, tolerance: 816865125.5190994\n",
      "  model = cd_fast.enet_coordinate_descent_gram(\n",
      "/Users/kyoungbari/opt/anaconda3/lib/python3.8/site-packages/sklearn/linear_model/_coordinate_descent.py:526: ConvergenceWarning: Objective did not converge. You might want to increase the number of iterations. Duality gap: 26576908220.399902, tolerance: 816865125.5190994\n",
      "  model = cd_fast.enet_coordinate_descent_gram(\n",
      "/Users/kyoungbari/opt/anaconda3/lib/python3.8/site-packages/sklearn/linear_model/_coordinate_descent.py:526: ConvergenceWarning: Objective did not converge. You might want to increase the number of iterations. Duality gap: 44761448712.623535, tolerance: 816865125.5190994\n",
      "  model = cd_fast.enet_coordinate_descent_gram(\n",
      "/Users/kyoungbari/opt/anaconda3/lib/python3.8/site-packages/sklearn/linear_model/_coordinate_descent.py:526: ConvergenceWarning: Objective did not converge. You might want to increase the number of iterations. Duality gap: 39608950860.06958, tolerance: 816865125.5190994\n",
      "  model = cd_fast.enet_coordinate_descent_gram(\n",
      "/Users/kyoungbari/opt/anaconda3/lib/python3.8/site-packages/sklearn/linear_model/_coordinate_descent.py:526: ConvergenceWarning: Objective did not converge. You might want to increase the number of iterations. Duality gap: 38592033258.29663, tolerance: 816865125.5190994\n",
      "  model = cd_fast.enet_coordinate_descent_gram(\n",
      "/Users/kyoungbari/opt/anaconda3/lib/python3.8/site-packages/sklearn/linear_model/_coordinate_descent.py:526: ConvergenceWarning: Objective did not converge. You might want to increase the number of iterations. Duality gap: 61582618211.146484, tolerance: 816865125.5190994\n",
      "  model = cd_fast.enet_coordinate_descent_gram(\n",
      "/Users/kyoungbari/opt/anaconda3/lib/python3.8/site-packages/sklearn/linear_model/_coordinate_descent.py:526: ConvergenceWarning: Objective did not converge. You might want to increase the number of iterations. Duality gap: 68162510516.208374, tolerance: 816865125.5190994\n",
      "  model = cd_fast.enet_coordinate_descent_gram(\n",
      "/Users/kyoungbari/opt/anaconda3/lib/python3.8/site-packages/sklearn/linear_model/_coordinate_descent.py:526: ConvergenceWarning: Objective did not converge. You might want to increase the number of iterations. Duality gap: 78783428091.31396, tolerance: 816865125.5190994\n",
      "  model = cd_fast.enet_coordinate_descent_gram(\n",
      "/Users/kyoungbari/opt/anaconda3/lib/python3.8/site-packages/sklearn/linear_model/_coordinate_descent.py:526: ConvergenceWarning: Objective did not converge. You might want to increase the number of iterations. Duality gap: 107442626563.45752, tolerance: 816865125.5190994\n",
      "  model = cd_fast.enet_coordinate_descent_gram(\n",
      "/Users/kyoungbari/opt/anaconda3/lib/python3.8/site-packages/sklearn/linear_model/_coordinate_descent.py:526: ConvergenceWarning: Objective did not converge. You might want to increase the number of iterations. Duality gap: 103288452779.66089, tolerance: 816865125.5190994\n",
      "  model = cd_fast.enet_coordinate_descent_gram(\n",
      "/Users/kyoungbari/opt/anaconda3/lib/python3.8/site-packages/sklearn/linear_model/_coordinate_descent.py:526: ConvergenceWarning: Objective did not converge. You might want to increase the number of iterations. Duality gap: 67218397592.01941, tolerance: 816865125.5190994\n",
      "  model = cd_fast.enet_coordinate_descent_gram(\n",
      "/Users/kyoungbari/opt/anaconda3/lib/python3.8/site-packages/sklearn/linear_model/_coordinate_descent.py:526: ConvergenceWarning: Objective did not converge. You might want to increase the number of iterations. Duality gap: 30124250534.99829, tolerance: 816865125.5190994\n",
      "  model = cd_fast.enet_coordinate_descent_gram(\n",
      "/Users/kyoungbari/opt/anaconda3/lib/python3.8/site-packages/sklearn/linear_model/_coordinate_descent.py:530: ConvergenceWarning: Objective did not converge. You might want to increase the number of iterations. Duality gap: 3239716199.6955566, tolerance: 972711210.8729936\n",
      "  model = cd_fast.enet_coordinate_descent(\n"
     ]
    },
    {
     "data": {
      "text/plain": [
       "LassoCV(alphas=array([1.00000000e-01, 1.67683294e-01, 2.81176870e-01, 4.71486636e-01,\n",
       "       7.90604321e-01, 1.32571137e+00, 2.22299648e+00, 3.72759372e+00,\n",
       "       6.25055193e+00, 1.04811313e+01, 1.75751062e+01, 2.94705170e+01,\n",
       "       4.94171336e+01, 8.28642773e+01, 1.38949549e+02, 2.32995181e+02,\n",
       "       3.90693994e+02, 6.55128557e+02, 1.09854114e+03, 1.84206997e+03,\n",
       "       3.08884360e+03, 5.17947468e+0...\n",
       "       2.44205309e+04, 4.09491506e+04, 6.86648845e+04, 1.15139540e+05,\n",
       "       1.93069773e+05, 3.23745754e+05, 5.42867544e+05, 9.10298178e+05,\n",
       "       1.52641797e+06, 2.55954792e+06, 4.29193426e+06, 7.19685673e+06,\n",
       "       1.20679264e+07, 2.02358965e+07, 3.39322177e+07, 5.68986603e+07,\n",
       "       9.54095476e+07, 1.59985872e+08, 2.68269580e+08, 4.49843267e+08,\n",
       "       7.54312006e+08, 1.26485522e+09, 2.12095089e+09, 3.55648031e+09,\n",
       "       5.96362332e+09, 1.00000000e+10]),\n",
       "        cv=5)"
      ]
     },
     "execution_count": 1672,
     "metadata": {},
     "output_type": "execute_result"
    }
   ],
   "source": [
    "l_alphas = np.logspace(-1, 10)\n",
    "lasso = LassoCV(alphas=l_alphas, cv=5)\n",
    "lasso.fit(Z_train, y_train)"
   ]
  },
  {
   "cell_type": "code",
   "execution_count": 1673,
   "id": "47eeb2e2",
   "metadata": {
    "scrolled": true
   },
   "outputs": [
    {
     "data": {
      "text/plain": [
       "(0.8756645262431488, 0.8800828687379512)"
      ]
     },
     "execution_count": 1673,
     "metadata": {},
     "output_type": "execute_result"
    }
   ],
   "source": [
    "lasso.score(Z_train, y_train), lasso.score(Z_test, y_test)"
   ]
  },
  {
   "cell_type": "code",
   "execution_count": 1674,
   "id": "37e1467c",
   "metadata": {},
   "outputs": [
    {
     "data": {
      "text/plain": [
       "232.99518105153717"
      ]
     },
     "execution_count": 1674,
     "metadata": {},
     "output_type": "execute_result"
    }
   ],
   "source": [
    "lasso.alpha_"
   ]
  },
  {
   "cell_type": "code",
   "execution_count": 1675,
   "id": "85fdb462",
   "metadata": {},
   "outputs": [],
   "source": [
    "predicts_lasso = lasso.predict(Z_submission)"
   ]
  },
  {
   "cell_type": "code",
   "execution_count": 1676,
   "id": "46abed67",
   "metadata": {},
   "outputs": [],
   "source": [
    "submission_lasso['saleprice'] = predicts_lasso"
   ]
  },
  {
   "cell_type": "code",
   "execution_count": 1677,
   "id": "c18826d2",
   "metadata": {},
   "outputs": [],
   "source": [
    "lasso_final = submission_lasso[['id', 'saleprice']]"
   ]
  },
  {
   "cell_type": "code",
   "execution_count": 1678,
   "id": "581de18f",
   "metadata": {},
   "outputs": [],
   "source": [
    "lasso_final= lasso_final.sort_values('id')"
   ]
  },
  {
   "cell_type": "code",
   "execution_count": 1679,
   "id": "5d515276",
   "metadata": {},
   "outputs": [],
   "source": [
    "lasso_final.to_csv('datasets/lasso_test.csv', index = False)"
   ]
  },
  {
   "cell_type": "code",
   "execution_count": 1680,
   "id": "a48132cd",
   "metadata": {},
   "outputs": [
    {
     "data": {
      "text/html": [
       "<div>\n",
       "<style scoped>\n",
       "    .dataframe tbody tr th:only-of-type {\n",
       "        vertical-align: middle;\n",
       "    }\n",
       "\n",
       "    .dataframe tbody tr th {\n",
       "        vertical-align: top;\n",
       "    }\n",
       "\n",
       "    .dataframe thead th {\n",
       "        text-align: right;\n",
       "    }\n",
       "</style>\n",
       "<table border=\"1\" class=\"dataframe\">\n",
       "  <thead>\n",
       "    <tr style=\"text-align: right;\">\n",
       "      <th></th>\n",
       "      <th>id</th>\n",
       "      <th>saleprice</th>\n",
       "    </tr>\n",
       "  </thead>\n",
       "  <tbody>\n",
       "    <tr>\n",
       "      <th>703</th>\n",
       "      <td>2</td>\n",
       "      <td>126060.023796</td>\n",
       "    </tr>\n",
       "    <tr>\n",
       "      <th>705</th>\n",
       "      <td>4</td>\n",
       "      <td>269281.180438</td>\n",
       "    </tr>\n",
       "    <tr>\n",
       "      <th>119</th>\n",
       "      <td>6</td>\n",
       "      <td>185796.985408</td>\n",
       "    </tr>\n",
       "    <tr>\n",
       "      <th>311</th>\n",
       "      <td>7</td>\n",
       "      <td>221605.107195</td>\n",
       "    </tr>\n",
       "    <tr>\n",
       "      <th>400</th>\n",
       "      <td>17</td>\n",
       "      <td>194614.597747</td>\n",
       "    </tr>\n",
       "  </tbody>\n",
       "</table>\n",
       "</div>"
      ],
      "text/plain": [
       "     id      saleprice\n",
       "703   2  126060.023796\n",
       "705   4  269281.180438\n",
       "119   6  185796.985408\n",
       "311   7  221605.107195\n",
       "400  17  194614.597747"
      ]
     },
     "execution_count": 1680,
     "metadata": {},
     "output_type": "execute_result"
    }
   ],
   "source": [
    "lasso_final.head()"
   ]
  },
  {
   "cell_type": "markdown",
   "id": "02068261",
   "metadata": {},
   "source": [
    "It isn't the best score, so I will perform K Nearest Neighbors to see if I can get a better score."
   ]
  },
  {
   "cell_type": "markdown",
   "id": "527d457e",
   "metadata": {},
   "source": [
    "# KNN"
   ]
  },
  {
   "cell_type": "code",
   "execution_count": 1681,
   "id": "82c94640",
   "metadata": {},
   "outputs": [],
   "source": [
    "features = ['lot_area', '1st_flr_sf', '2nd_flr_sf', 'full_bath', 'overall_cond', 'garage_cars',\n",
    "            'half_bath', 'pool_area', 'total_bsmt_sf', 'garage_area', 'overall_qual']\n",
    "\n",
    "X = training[features]\n",
    "y = training['saleprice']"
   ]
  },
  {
   "cell_type": "code",
   "execution_count": 1682,
   "id": "a4a97e88",
   "metadata": {},
   "outputs": [],
   "source": [
    "X_train, X_test, y_train, y_test = train_test_split(X, y, random_state = 42)"
   ]
  },
  {
   "cell_type": "code",
   "execution_count": 1683,
   "id": "627beb5d",
   "metadata": {},
   "outputs": [],
   "source": [
    "from sklearn.neighbors import KNeighborsRegressor"
   ]
  },
  {
   "cell_type": "code",
   "execution_count": 1684,
   "id": "84aa34c4",
   "metadata": {},
   "outputs": [],
   "source": [
    "knn = KNeighborsRegressor(11)"
   ]
  },
  {
   "cell_type": "code",
   "execution_count": 1685,
   "id": "44e34ce2",
   "metadata": {},
   "outputs": [],
   "source": [
    "ss = StandardScaler()\n",
    "ss.fit(X_train)\n",
    "X_train_sc = ss.transform(X_train)\n",
    "X_test_sc = ss.transform(X_test)\n",
    "subs_test = ss.transform(submission_knn[features])"
   ]
  },
  {
   "cell_type": "code",
   "execution_count": 1686,
   "id": "380492ce",
   "metadata": {},
   "outputs": [
    {
     "data": {
      "text/plain": [
       "0.8151508788213933"
      ]
     },
     "execution_count": 1686,
     "metadata": {},
     "output_type": "execute_result"
    }
   ],
   "source": [
    "cross_val_score(knn, X_train_sc, y_train).mean()"
   ]
  },
  {
   "cell_type": "code",
   "execution_count": 1687,
   "id": "5cc32ac7",
   "metadata": {},
   "outputs": [
    {
     "data": {
      "text/plain": [
       "KNeighborsRegressor(n_neighbors=11)"
      ]
     },
     "execution_count": 1687,
     "metadata": {},
     "output_type": "execute_result"
    }
   ],
   "source": [
    "knn.fit(X_train_sc, y_train)"
   ]
  },
  {
   "cell_type": "code",
   "execution_count": 1688,
   "id": "0b4ad608",
   "metadata": {
    "scrolled": true
   },
   "outputs": [
    {
     "data": {
      "text/plain": [
       "(0.8498249737916612, 0.8652318666145549)"
      ]
     },
     "execution_count": 1688,
     "metadata": {},
     "output_type": "execute_result"
    }
   ],
   "source": [
    "knn.score(X_train_sc, y_train), knn.score(X_test_sc, y_test)"
   ]
  },
  {
   "cell_type": "markdown",
   "id": "1e2bdf1e",
   "metadata": {},
   "source": [
    "The K Neighbors Regressor gave us even better prediction. About 84% of the variability in y is explained by the x-variables in our model."
   ]
  },
  {
   "cell_type": "code",
   "execution_count": 1689,
   "id": "a2d9d001",
   "metadata": {},
   "outputs": [],
   "source": [
    "preds = knn.predict(subs_test)"
   ]
  },
  {
   "cell_type": "code",
   "execution_count": 1690,
   "id": "4a7950d4",
   "metadata": {},
   "outputs": [],
   "source": [
    "submission_knn['saleprice'] = preds"
   ]
  },
  {
   "cell_type": "code",
   "execution_count": 1691,
   "id": "e3c2d3b6",
   "metadata": {},
   "outputs": [],
   "source": [
    "knn_final = submission_knn[['id', 'saleprice']]"
   ]
  },
  {
   "cell_type": "code",
   "execution_count": 1692,
   "id": "6a16fe23",
   "metadata": {},
   "outputs": [],
   "source": [
    "knn_final = knn_final.sort_values(by = 'id')"
   ]
  },
  {
   "cell_type": "markdown",
   "id": "2626d037",
   "metadata": {},
   "source": [
    "Same for Submission."
   ]
  },
  {
   "cell_type": "code",
   "execution_count": 1693,
   "id": "499e7862",
   "metadata": {},
   "outputs": [],
   "source": [
    "knn_final.to_csv('datasets/knn_test.csv', index = False)"
   ]
  },
  {
   "cell_type": "code",
   "execution_count": 1694,
   "id": "1f4818f2",
   "metadata": {
    "scrolled": true
   },
   "outputs": [
    {
     "data": {
      "text/html": [
       "<div>\n",
       "<style scoped>\n",
       "    .dataframe tbody tr th:only-of-type {\n",
       "        vertical-align: middle;\n",
       "    }\n",
       "\n",
       "    .dataframe tbody tr th {\n",
       "        vertical-align: top;\n",
       "    }\n",
       "\n",
       "    .dataframe thead th {\n",
       "        text-align: right;\n",
       "    }\n",
       "</style>\n",
       "<table border=\"1\" class=\"dataframe\">\n",
       "  <thead>\n",
       "    <tr style=\"text-align: right;\">\n",
       "      <th></th>\n",
       "      <th>id</th>\n",
       "      <th>saleprice</th>\n",
       "    </tr>\n",
       "  </thead>\n",
       "  <tbody>\n",
       "    <tr>\n",
       "      <th>703</th>\n",
       "      <td>2</td>\n",
       "      <td>141722.727273</td>\n",
       "    </tr>\n",
       "    <tr>\n",
       "      <th>705</th>\n",
       "      <td>4</td>\n",
       "      <td>287045.454545</td>\n",
       "    </tr>\n",
       "    <tr>\n",
       "      <th>119</th>\n",
       "      <td>6</td>\n",
       "      <td>181163.636364</td>\n",
       "    </tr>\n",
       "    <tr>\n",
       "      <th>311</th>\n",
       "      <td>7</td>\n",
       "      <td>204477.272727</td>\n",
       "    </tr>\n",
       "    <tr>\n",
       "      <th>400</th>\n",
       "      <td>17</td>\n",
       "      <td>182318.181818</td>\n",
       "    </tr>\n",
       "  </tbody>\n",
       "</table>\n",
       "</div>"
      ],
      "text/plain": [
       "     id      saleprice\n",
       "703   2  141722.727273\n",
       "705   4  287045.454545\n",
       "119   6  181163.636364\n",
       "311   7  204477.272727\n",
       "400  17  182318.181818"
      ]
     },
     "execution_count": 1694,
     "metadata": {},
     "output_type": "execute_result"
    }
   ],
   "source": [
    "knn_final.head()"
   ]
  },
  {
   "cell_type": "markdown",
   "id": "4ce45485",
   "metadata": {},
   "source": [
    "# Plotting"
   ]
  },
  {
   "cell_type": "markdown",
   "id": "3b029859",
   "metadata": {},
   "source": [
    "Residual vs predictions"
   ]
  },
  {
   "cell_type": "code",
   "execution_count": 1695,
   "id": "11562f2a",
   "metadata": {},
   "outputs": [],
   "source": [
    "predictions_lr = lr.predict(X_test)\n",
    "residuals = y_test - predictions_lr"
   ]
  },
  {
   "cell_type": "code",
   "execution_count": 1696,
   "id": "d61c6f85",
   "metadata": {},
   "outputs": [
    {
     "data": {
      "image/png": "[encoded data removed]",
      "text/plain": [
       "<Figure size 720x360 with 1 Axes>"
      ]
     },
     "metadata": {
      "needs_background": "light"
     },
     "output_type": "display_data"
    }
   ],
   "source": [
    "plt.figure(figsize=(10, 5))\n",
    "plt.title('Predictions vs Residuals Scatter', fontsize=20)\n",
    "plt.xlabel('Residuals', fontsize=16)\n",
    "plt.ylabel('Predictions', fontsize=16)\n",
    "plt.scatter(x = predictions_lr, y = residuals)\n",
    "plt.axhline(0, color='r')\n",
    "plt.savefig('./lr_pr_scatter.png');"
   ]
  },
  {
   "cell_type": "markdown",
   "id": "f52335f8",
   "metadata": {},
   "source": [
    "The graph above is a graph that compares predictions (y-axis) to Residuals (x-axis).\n",
    "\n",
    "This does not show much of uniform scattered plots between predictions and the residuals. "
   ]
  },
  {
   "cell_type": "code",
   "execution_count": 1697,
   "id": "8187c784",
   "metadata": {},
   "outputs": [
    {
     "data": {
      "image/png": "[encoded data removed]",
      "text/plain": [
       "<Figure size 720x360 with 1 Axes>"
      ]
     },
     "metadata": {
      "needs_background": "light"
     },
     "output_type": "display_data"
    }
   ],
   "source": [
    "plt.figure(figsize=(10, 5))\n",
    "plt.title('Predictions vs Actual', fontsize=20)\n",
    "plt.xlabel('Actual', fontsize=16)\n",
    "plt.ylabel('Predictions', fontsize=16)\n",
    "plt.scatter(predictions_lr, y_test)\n",
    "plt.savefig('./lr_py_scatter.png');"
   ]
  },
  {
   "cell_type": "markdown",
   "id": "080c9f21",
   "metadata": {},
   "source": [
    "The graph of prediction (y-axis) to the actual saleprice of the training dataframe."
   ]
  },
  {
   "cell_type": "code",
   "execution_count": 1698,
   "id": "88e18866",
   "metadata": {},
   "outputs": [
    {
     "data": {
      "image/png": "[encoded data removed]",
      "text/plain": [
       "<Figure size 504x504 with 1 Axes>"
      ]
     },
     "metadata": {
      "needs_background": "light"
     },
     "output_type": "display_data"
    }
   ],
   "source": [
    "plt.figure(figsize=(7, 7))\n",
    "plt.title('Coef. Features', fontsize=20)\n",
    "plt.xlabel('Coefficients', fontsize=16)\n",
    "plt.ylabel('Features', fontsize=16)\n",
    "plt.barh(features, coef_lr)\n",
    "plt.savefig('./lr_coef_barh.png')"
   ]
  },
  {
   "cell_type": "code",
   "execution_count": 1699,
   "id": "38d394f8",
   "metadata": {},
   "outputs": [
    {
     "data": {
      "image/png": "[encoded data removed]",
      "text/plain": [
       "<Figure size 504x504 with 1 Axes>"
      ]
     },
     "metadata": {
      "needs_background": "light"
     },
     "output_type": "display_data"
    }
   ],
   "source": [
    "plt.figure(figsize=(7, 7))\n",
    "plt.title('Residuals Histogram', fontsize=20)\n",
    "plt.xlabel('Residuals', fontsize=16)\n",
    "plt.hist(residuals)\n",
    "plt.savefig('./lr_hist.png');"
   ]
  },
  {
   "cell_type": "markdown",
   "id": "b0e2b194",
   "metadata": {},
   "source": [
    "Residuals histogram. It appears like it is somewhat uniform. It might be right skewed."
   ]
  },
  {
   "cell_type": "markdown",
   "id": "885552eb",
   "metadata": {},
   "source": [
    "# Ridge Plots"
   ]
  },
  {
   "cell_type": "code",
   "execution_count": 1700,
   "id": "9066a5fe",
   "metadata": {},
   "outputs": [],
   "source": [
    "predictions = ridge_cv.predict(Z_test)\n",
    "residuals = y_test - predictions"
   ]
  },
  {
   "cell_type": "code",
   "execution_count": 1701,
   "id": "c4ca56dc",
   "metadata": {},
   "outputs": [
    {
     "data": {
      "image/png": "[encoded data removed]",
      "text/plain": [
       "<Figure size 720x360 with 1 Axes>"
      ]
     },
     "metadata": {
      "needs_background": "light"
     },
     "output_type": "display_data"
    }
   ],
   "source": [
    "plt.figure(figsize=(10, 5))\n",
    "plt.title('Ridge Predictions vs Residuals Scatter', fontsize=20)\n",
    "plt.xlabel('Residuals', fontsize=16)\n",
    "plt.ylabel('Predictions', fontsize=16)\n",
    "plt.scatter(x = predictions, y = residuals, color = 'teal')\n",
    "plt.axhline(0, color='r')\n",
    "plt.savefig('./ridge_pr_scatter.png');"
   ]
  },
  {
   "cell_type": "markdown",
   "id": "6ad5d578",
   "metadata": {},
   "source": [
    "The graph above is a graph that compares predictions (y-axis) to Residuals (x-axis).\n",
    "\n",
    "There is at least one outlier that is visible in this scatter plot."
   ]
  },
  {
   "cell_type": "code",
   "execution_count": 1702,
   "id": "a61a27c3",
   "metadata": {
    "scrolled": true
   },
   "outputs": [
    {
     "data": {
      "image/png": "[encoded data removed]",
      "text/plain": [
       "<Figure size 720x360 with 1 Axes>"
      ]
     },
     "metadata": {
      "needs_background": "light"
     },
     "output_type": "display_data"
    }
   ],
   "source": [
    "plt.figure(figsize=(10, 5))\n",
    "plt.title('Ridge Predictions vs Actual Scatter', fontsize=20)\n",
    "plt.xlabel('Actual', fontsize=16)\n",
    "plt.ylabel('Predictions', fontsize=16)\n",
    "plt.scatter(predictions, y_test, color = 'teal')\n",
    "plt.savefig('./ridge_py_scatter.png');"
   ]
  },
  {
   "cell_type": "markdown",
   "id": "12fcd65f",
   "metadata": {},
   "source": [
    "The graph of prediction (y-axis) to the actual saleprice of the training dataframe."
   ]
  },
  {
   "cell_type": "code",
   "execution_count": 1703,
   "id": "669f2f78",
   "metadata": {},
   "outputs": [
    {
     "data": {
      "image/png": "[encoded data removed]",
      "text/plain": [
       "<Figure size 504x504 with 1 Axes>"
      ]
     },
     "metadata": {
      "needs_background": "light"
     },
     "output_type": "display_data"
    }
   ],
   "source": [
    "plt.figure(figsize=(7, 7))\n",
    "plt.title('Ridge Residuals Histogram', fontsize=20)\n",
    "plt.xlabel('Residuals', fontsize=16)\n",
    "plt.hist(residuals, color = 'teal')\n",
    "plt.savefig('./ridge_hist.png');"
   ]
  },
  {
   "cell_type": "markdown",
   "id": "67e2dea9",
   "metadata": {},
   "source": [
    "Residuals histogram. It appears like it is somewhat uniform. But, it does have one outlier. This test has a high variance."
   ]
  },
  {
   "cell_type": "markdown",
   "id": "6408e5dc",
   "metadata": {},
   "source": [
    "# Lasso Plots"
   ]
  },
  {
   "cell_type": "code",
   "execution_count": 1704,
   "id": "0c0ee4f9",
   "metadata": {},
   "outputs": [],
   "source": [
    "predictions = lasso.predict(Z_test)\n",
    "residuals = y_test - predictions"
   ]
  },
  {
   "cell_type": "code",
   "execution_count": 1705,
   "id": "5a05e973",
   "metadata": {},
   "outputs": [
    {
     "data": {
      "image/png": "[encoded data removed]",
      "text/plain": [
       "<Figure size 720x360 with 1 Axes>"
      ]
     },
     "metadata": {
      "needs_background": "light"
     },
     "output_type": "display_data"
    }
   ],
   "source": [
    "plt.figure(figsize=(10, 5))\n",
    "plt.title('Lasso Predictions vs Residuals Scatter', fontsize=20)\n",
    "plt.xlabel('Residuals', fontsize=16)\n",
    "plt.ylabel('Predictions', fontsize=16)\n",
    "plt.scatter(x = predictions, y = residuals, color = 'orange')\n",
    "plt.axhline(0, color='r')\n",
    "plt.savefig('./lasso_pr_scatter.png');"
   ]
  },
  {
   "cell_type": "markdown",
   "id": "4106ea15",
   "metadata": {},
   "source": [
    "The graph above is a graph that compares predictions (y-axis) to Residuals (x-axis).\n",
    "\n",
    "Unlike the graph above, the outlier that used to be in the lower right corner is not spread apart as far as before."
   ]
  },
  {
   "cell_type": "code",
   "execution_count": 1706,
   "id": "92249b22",
   "metadata": {},
   "outputs": [
    {
     "data": {
      "image/png": "[encoded data removed]",
      "text/plain": [
       "<Figure size 720x360 with 1 Axes>"
      ]
     },
     "metadata": {
      "needs_background": "light"
     },
     "output_type": "display_data"
    }
   ],
   "source": [
    "plt.figure(figsize=(10, 5))\n",
    "plt.title('Lasso Predictions vs Actual Scatter', fontsize=20)\n",
    "plt.xlabel('Actual', fontsize=16)\n",
    "plt.ylabel('Predictions', fontsize=16)\n",
    "plt.scatter(predictions, y_test, color = 'orange')\n",
    "plt.savefig('./lasso_py_scatter.png');"
   ]
  },
  {
   "cell_type": "markdown",
   "id": "8f9d9a05",
   "metadata": {},
   "source": [
    "The graph of prediction (y-axis) to the actual saleprice of the training dataframe."
   ]
  },
  {
   "cell_type": "code",
   "execution_count": 1707,
   "id": "6bcbd713",
   "metadata": {},
   "outputs": [
    {
     "data": {
      "image/png": "[encoded data removed]",
      "text/plain": [
       "<Figure size 504x504 with 1 Axes>"
      ]
     },
     "metadata": {
      "needs_background": "light"
     },
     "output_type": "display_data"
    }
   ],
   "source": [
    "plt.figure(figsize=(7, 7))\n",
    "plt.title('Lasso Residuals Histogram', fontsize=20)\n",
    "plt.xlabel('Residuals', fontsize=16)\n",
    "plt.hist(residuals, color = 'orange')\n",
    "plt.savefig('./lasso_hist.png');"
   ]
  },
  {
   "cell_type": "markdown",
   "id": "25e33442",
   "metadata": {},
   "source": [
    "Residuals histogram. It appears like it is somewhat uniform.  But, it does have one outlier. This test has a high variance."
   ]
  },
  {
   "cell_type": "code",
   "execution_count": 1708,
   "id": "5abbe416",
   "metadata": {},
   "outputs": [],
   "source": [
    "lasso_coefs = pd.Series(lasso.coef_, index=poly.get_feature_names(X.columns))"
   ]
  },
  {
   "cell_type": "code",
   "execution_count": 1709,
   "id": "1a323f41",
   "metadata": {},
   "outputs": [
    {
     "data": {
      "image/png": "[encoded data removed]",
      "text/plain": [
       "<Figure size 720x720 with 1 Axes>"
      ]
     },
     "metadata": {
      "needs_background": "light"
     },
     "output_type": "display_data"
    }
   ],
   "source": [
    "plt.figure(figsize=(10, 10))\n",
    "plt.title('Lasso Coefficients', fontsize=20)\n",
    "lasso_coefs[lasso_coefs != 0].sort_values().plot.barh()\n",
    "plt.savefig('./lasso_coef.png')"
   ]
  },
  {
   "cell_type": "markdown",
   "id": "15bb0453",
   "metadata": {},
   "source": [
    "# KNN Plots"
   ]
  },
  {
   "cell_type": "code",
   "execution_count": 1710,
   "id": "dfa8c8b1",
   "metadata": {},
   "outputs": [],
   "source": [
    "predictions = knn.predict(X_test_sc)\n",
    "residuals = y_test - predictions"
   ]
  },
  {
   "cell_type": "code",
   "execution_count": 1711,
   "id": "bdcb4e82",
   "metadata": {
    "scrolled": true
   },
   "outputs": [
    {
     "data": {
      "image/png": "[encoded data removed]",
      "text/plain": [
       "<Figure size 720x360 with 1 Axes>"
      ]
     },
     "metadata": {
      "needs_background": "light"
     },
     "output_type": "display_data"
    }
   ],
   "source": [
    "plt.figure(figsize=(10, 5))\n",
    "plt.title('KNN Predictions vs Residuals Scatter', fontsize=20)\n",
    "plt.xlabel('Residuals', fontsize=16)\n",
    "plt.ylabel('Predictions', fontsize=16)\n",
    "plt.scatter(x = predictions, y = residuals, color = 'green')\n",
    "plt.axhline(0, color='r')\n",
    "plt.savefig('./knn_pr_scatter.png');"
   ]
  },
  {
   "cell_type": "markdown",
   "id": "fb20b4ff",
   "metadata": {},
   "source": [
    "The graph above is a graph that compares predictions (y-axis) to Residuals (x-axis).\n",
    "\n",
    "Hardly any visible outliers can be seen. The graph does look like it follows homoscedasticity as well."
   ]
  },
  {
   "cell_type": "code",
   "execution_count": 1712,
   "id": "ab101642",
   "metadata": {},
   "outputs": [
    {
     "data": {
      "image/png": "[encoded data removed]",
      "text/plain": [
       "<Figure size 720x360 with 1 Axes>"
      ]
     },
     "metadata": {
      "needs_background": "light"
     },
     "output_type": "display_data"
    }
   ],
   "source": [
    "plt.figure(figsize=(10, 5))\n",
    "plt.title('KNN Predictions vs Actual Scatter', fontsize=20)\n",
    "plt.xlabel('Actual', fontsize=16)\n",
    "plt.ylabel('Predictions', fontsize=16)\n",
    "plt.scatter(predictions, y_test, color = 'green')\n",
    "plt.savefig('./knn_py_scatter.png')"
   ]
  },
  {
   "cell_type": "markdown",
   "id": "363fc9c1",
   "metadata": {},
   "source": [
    "The graph of prediction (y-axis) to the actual saleprice of the training dataframe."
   ]
  },
  {
   "cell_type": "code",
   "execution_count": 1713,
   "id": "5fbc673a",
   "metadata": {},
   "outputs": [
    {
     "data": {
      "image/png": "[encoded data removed]",
      "text/plain": [
       "<Figure size 504x504 with 1 Axes>"
      ]
     },
     "metadata": {
      "needs_background": "light"
     },
     "output_type": "display_data"
    }
   ],
   "source": [
    "plt.figure(figsize=(7, 7))\n",
    "plt.title('KNN Residuals Histogram', fontsize=20)\n",
    "plt.xlabel('Residuals', fontsize=16)\n",
    "plt.hist(residuals, color = 'green')\n",
    "plt.savefig('./knn_hist.png');"
   ]
  },
  {
   "cell_type": "markdown",
   "id": "e7e0bfc9",
   "metadata": {},
   "source": [
    "This histogram looks the best out of all. It has a bell curve without any visible outliers. The histogram looks not biased and low variance."
   ]
  },
  {
   "cell_type": "code",
   "execution_count": null,
   "id": "a29b4d73",
   "metadata": {},
   "outputs": [],
   "source": []
  }
 ],
 "metadata": {
  "kernelspec": {
   "display_name": "Python 3",
   "language": "python",
   "name": "python3"
  },
  "language_info": {
   "codemirror_mode": {
    "name": "ipython",
    "version": 3
   },
   "file_extension": ".py",
   "mimetype": "text/x-python",
   "name": "python",
   "nbconvert_exporter": "python",
   "pygments_lexer": "ipython3",
   "version": "3.8.8"
  }
 },
 "nbformat": 4,
 "nbformat_minor": 5
}
